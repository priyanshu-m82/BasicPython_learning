{
 "cells": [
  {
   "cell_type": "code",
   "execution_count": 65,
   "id": "f2dcae38",
   "metadata": {},
   "outputs": [
    {
     "name": "stdout",
     "output_type": "stream",
     "text": [
      "python\n"
     ]
    }
   ],
   "source": [
    "print(\"python\")"
   ]
  },
  {
   "cell_type": "code",
   "execution_count": 63,
   "id": "1de563e8",
   "metadata": {},
   "outputs": [
    {
     "name": "stdout",
     "output_type": "stream",
     "text": [
      "19\n",
      "python\n",
      "age is -- 19 , name is -- python\n"
     ]
    }
   ],
   "source": [
    "age=19\n",
    "name=\"python\"\n",
    "print(age)\n",
    "print(name)\n",
    "print(\"age is --\",age,\",\",\"name is --\",name)"
   ]
  },
  {
   "cell_type": "code",
   "execution_count": 66,
   "id": "e5955f8b",
   "metadata": {},
   "outputs": [
    {
     "name": "stdout",
     "output_type": "stream",
     "text": [
      "Age is:19\n",
      "Name is:python\n"
     ]
    }
   ],
   "source": [
    "#using f string\n",
    "\n",
    "age=19\n",
    "name=\"python\"\n",
    "print(f\"Age is:{age}\\nName is:{name}\")"
   ]
  },
  {
   "cell_type": "code",
   "execution_count": 62,
   "id": "17ed1a05",
   "metadata": {},
   "outputs": [
    {
     "name": "stdout",
     "output_type": "stream",
     "text": [
      "Age is:19\n",
      "Name is:python\n"
     ]
    }
   ],
   "source": [
    "#using format function\n",
    "\n",
    "age=19\n",
    "name=\"python\"\n",
    "print(\"Age is:{}\\nName is:{}\".format(age,name))"
   ]
  },
  {
   "cell_type": "code",
   "execution_count": 60,
   "id": "f01202c8",
   "metadata": {},
   "outputs": [
    {
     "name": "stdout",
     "output_type": "stream",
     "text": [
      "hello#python\n",
      "hello python\n",
      "hello\n",
      "python\n",
      "hello python "
     ]
    }
   ],
   "source": [
    "#string separation\n",
    "\n",
    "a=\"hello\"\n",
    "b=\"python\"\n",
    "print(a,b,sep='#')\n",
    "print(a,b)\n",
    "print(a)\n",
    "print(b)\n",
    "print(a,end=' ')\n",
    "print(b,end=' ')"
   ]
  },
  {
   "cell_type": "code",
   "execution_count": 13,
   "id": "60c3d0ac-0274-4116-a23b-14484f3d04b8",
   "metadata": {},
   "outputs": [
    {
     "name": "stdout",
     "output_type": "stream",
     "text": [
      "Enter the first number: 456\n",
      "Enter the second number: 4521\n",
      "sum= 4977.0\n"
     ]
    }
   ],
   "source": [
    "#adding two numbers by taking input by user\n",
    "\n",
    "num1=float(input(\"Enter the first number: \"))\n",
    "num2=float(input(\"Enter the second number: \"))\n",
    "\n",
    "sum=num1+num2\n",
    "print(\"sum=\",sum)"
   ]
  },
  {
   "cell_type": "code",
   "execution_count": 14,
   "id": "4597c7df-b3cf-4c47-89d5-526670cc591f",
   "metadata": {},
   "outputs": [
    {
     "name": "stdout",
     "output_type": "stream",
     "text": [
      "Enter the first number: 52\n",
      "Enter the second number: 21\n",
      "before swapping:  a= 52 b= 21\n",
      "after swapping:  a= 21 b= 52\n"
     ]
    }
   ],
   "source": [
    "#swapping of two numbers using third variable\n",
    "\n",
    "a=int(input(\"Enter the first number: \"))\n",
    "b=int(input(\"Enter the second number: \"))\n",
    "\n",
    "print(\"before swapping: \",\"a=\",a,\"b=\",b)\n",
    "\n",
    "swap=a\n",
    "a=b\n",
    "b=swap\n",
    "\n",
    "print(\"after swapping: \",\"a=\",a,\"b=\",b)"
   ]
  },
  {
   "cell_type": "code",
   "execution_count": 43,
   "id": "73ef2a24-8c23-43c1-a769-edfbf4367b49",
   "metadata": {},
   "outputs": [
    {
     "name": "stdout",
     "output_type": "stream",
     "text": [
      "Enter the side of triangle\n",
      "a= 45\n",
      "b= 12\n",
      "c= 13\n",
      "perimeter= 70.0\n"
     ]
    }
   ],
   "source": [
    "#perimeter of the triangle\n",
    "print(\"Enter the side of triangle\")\n",
    "\n",
    "a=float(input(\"a= \"))\n",
    "b=float(input(\"b= \"))\n",
    "c=float(input(\"c= \"))\n",
    "\n",
    "peri=a+b+c\n",
    "print(\"perimeter=\",peri)"
   ]
  },
  {
   "cell_type": "code",
   "execution_count": 44,
   "id": "d7522eb1-00b6-414e-bd1f-c66182f789e1",
   "metadata": {},
   "outputs": [
    {
     "name": "stdout",
     "output_type": "stream",
     "text": [
      "Enter the side of triangle\n",
      "a= 12\n",
      "b= 11\n",
      "c= 13\n",
      "perimeter= 36.0\n",
      "area= 61.48170459575759\n"
     ]
    }
   ],
   "source": [
    "#perimeter of the triangle\n",
    "import math\n",
    "print(\"Enter the side of triangle\")\n",
    "\n",
    "a=float(input(\"a= \"))\n",
    "b=float(input(\"b= \"))\n",
    "c=float(input(\"c= \"))\n",
    "\n",
    "peri=a+b+c\n",
    "print(\"perimeter=\",peri)\n",
    "\n",
    "s=peri/2\n",
    "area=math.sqrt(s*(s-a)*(s-b)*(s-c))\n",
    "print(\"area=\",area)"
   ]
  },
  {
   "cell_type": "code",
   "execution_count": null,
   "id": "81140974-30a8-493a-aa67-c3d8aec0a9b5",
   "metadata": {},
   "outputs": [],
   "source": [
    "#conversion of temperature from fahrenheit to celsius\n",
    "\n",
    "f=float(input(\"Enter temperature in fahrenheit\"))"
   ]
  },
  {
   "cell_type": "code",
   "execution_count": 45,
   "id": "caf1f416-9fa8-4b2e-b407-667728e56dd8",
   "metadata": {},
   "outputs": [
    {
     "name": "stdout",
     "output_type": "stream",
     "text": [
      "Enter the three numbers: \n",
      "Enter a 52\n",
      "Enter b 45\n",
      "Enter c 56\n",
      "Average is:  51.0\n"
     ]
    }
   ],
   "source": [
    "#average of three numbers\n",
    "\n",
    "print(\"Enter the three numbers: \")\n",
    "a=float(input(\"Enter a \"))\n",
    "b=float(input(\"Enter b \"))\n",
    "c=float(input(\"Enter c \"))\n",
    "\n",
    "average=(a+b+c)/3\n",
    "print(\"Average is: \",average)"
   ]
  },
  {
   "cell_type": "code",
   "execution_count": 46,
   "id": "bc640c7c-e46f-4b9c-9489-faf3768c9ffc",
   "metadata": {},
   "outputs": [
    {
     "name": "stdout",
     "output_type": "stream",
     "text": [
      "Enter the first side: 6\n",
      "Enter the second side: 4\n",
      "hypotenuse is:7.21\n"
     ]
    }
   ],
   "source": [
    "#to calculate the hypotenuse of a right angle triangle\n",
    "import math\n",
    "\n",
    "side1=float(input(\"Enter the first side: \"))\n",
    "side2=float(input(\"Enter the second side: \"))\n",
    "\n",
    "h=math.sqrt(side1**2+side2**2)\n",
    "print(f\"hypotenuse is:{h:.2f}\")"
   ]
  },
  {
   "cell_type": "code",
   "execution_count": 97,
   "id": "0bd2be6f-58ec-4ab8-964c-e476d2b3d1ca",
   "metadata": {},
   "outputs": [
    {
     "name": "stdout",
     "output_type": "stream",
     "text": [
      "Enter the priuncipal amount: 3000\n",
      "Enter the annual rate of interest(in %): 12\n",
      "Enter the time(in yeras): 2\n",
      "The compound interest is:763.20\n"
     ]
    }
   ],
   "source": [
    "#to calculate the compound interest\n",
    "import math\n",
    "\n",
    "principal=float(input(\"Enter the priuncipal amount: \"))\n",
    "rate=float(input(\"Enter the annual rate of interest(in %): \"))\n",
    "time=float(input(\"Enter the time(in yeras): \"))\n",
    "\n",
    "compound_interest=principal*(1+rate/100)**time-principal\n",
    "print(f\"The compound interest is:{compound_interest:.2f}\")"
   ]
  },
  {
   "cell_type": "code",
   "execution_count": 98,
   "id": "8f422821-e8a3-401a-bdd1-a71825a8a6eb",
   "metadata": {},
   "outputs": [
    {
     "name": "stdout",
     "output_type": "stream",
     "text": [
      "Enter the marks of all five subject:\n",
      "enter marks in maths: 83\n",
      "enter marks in physics: 80\n",
      "enter marks in chemistry: 79\n",
      "enter marks in english: 81\n",
      "enter marks in computer_science: 85\n",
      "Total marks obtained out of 500 is:  408\n",
      "percentage is:  81.6\n"
     ]
    }
   ],
   "source": [
    "#to calculate the the sum of 5 subject marks and percentage\n",
    "print(\"Enter the marks of all five subject:\")\n",
    "\n",
    "maths=int(input(\"enter marks in maths: \"))\n",
    "physics=int(input(\"enter marks in physics: \"))\n",
    "chemistry=int(input(\"enter marks in chemistry: \"))\n",
    "english=int(input(\"enter marks in english: \"))\n",
    "computer_science=int(input(\"enter marks in computer_science: \"))\n",
    "\n",
    "total_marks=maths+physics+chemistry+english+computer_science\n",
    "print(\"Total marks obtained out of 500 is: \",total_marks)\n",
    "\n",
    "percentage=total_marks/500*100\n",
    "print(\"percentage is: \",percentage)\n"
   ]
  },
  {
   "cell_type": "code",
   "execution_count": 50,
   "id": "3bea84aa-dce8-4b08-b529-4eb6b152a6a6",
   "metadata": {},
   "outputs": [
    {
     "name": "stdout",
     "output_type": "stream",
     "text": [
      "['False', 'None', 'True', 'and', 'as', 'assert', 'async', 'await', 'break', 'class', 'continue', 'def', 'del', 'elif', 'else', 'except', 'finally', 'for', 'from', 'global', 'if', 'import', 'in', 'is', 'lambda', 'nonlocal', 'not', 'or', 'pass', 'raise', 'return', 'try', 'while', 'with', 'yield']\n"
     ]
    }
   ],
   "source": [
    "#keywords\n",
    "\n",
    "import keyword\n",
    "print(keyword.kwlist)"
   ]
  },
  {
   "cell_type": "code",
   "execution_count": 1,
   "id": "3b4cce78-9cf5-42ea-bb32-56a2191cba44",
   "metadata": {},
   "outputs": [
    {
     "name": "stdout",
     "output_type": "stream",
     "text": [
      "<class 'str'> <class 'float'> <class 'int'> <class 'str'>\n"
     ]
    }
   ],
   "source": [
    "#checking type\n",
    "\n",
    "a='A'\n",
    "b=2.5\n",
    "c=15\n",
    "d='hello'\n",
    "\n",
    "print(type(a),type(b),type(c),type(d))"
   ]
  },
  {
   "cell_type": "code",
   "execution_count": null,
   "id": "834d9a6c",
   "metadata": {},
   "outputs": [],
   "source": []
  },
  {
   "cell_type": "code",
   "execution_count": 9,
   "id": "8fa56dce",
   "metadata": {},
   "outputs": [
    {
     "name": "stdout",
     "output_type": "stream",
     "text": [
      "10.5 10.5 10.5\n",
      "10 20 30\n",
      "10 2.56 hello\n"
     ]
    }
   ],
   "source": [
    "#assigning values\n",
    "\n",
    "x=y=z=10.5\n",
    "print(x,y,z)\n",
    "x,y,z=10,20,30\n",
    "print(x,y,z)\n",
    "x,y,z=10,2.56,'hello'\n",
    "print(x,y,z)"
   ]
  },
  {
   "cell_type": "code",
   "execution_count": 11,
   "id": "a72a44c0",
   "metadata": {},
   "outputs": [
    {
     "data": {
      "text/plain": [
       "140723985793024"
      ]
     },
     "execution_count": 11,
     "metadata": {},
     "output_type": "execute_result"
    }
   ],
   "source": [
    "#checking memory location\n",
    "\n",
    "x=243\n",
    "y='A'\n",
    "\n",
    "id(x)\n",
    "id(y)"
   ]
  },
  {
   "cell_type": "code",
   "execution_count": 20,
   "id": "acc91e50",
   "metadata": {},
   "outputs": [
    {
     "name": "stdout",
     "output_type": "stream",
     "text": [
      "5\n",
      "5\n",
      "10\n",
      "156\n",
      "41524\n"
     ]
    }
   ],
   "source": [
    "#number system\n",
    "\n",
    "a=5\n",
    "print(a)\n",
    "\n",
    "x=0b101\n",
    "print(x)\n",
    "\n",
    "y=0B1010\n",
    "print(y)\n",
    "\n",
    "z=0o234\n",
    "print(z)\n",
    "\n",
    "b=0xA234\n",
    "print(b)"
   ]
  },
  {
   "cell_type": "code",
   "execution_count": 23,
   "id": "704d5ddc",
   "metadata": {},
   "outputs": [
    {
     "name": "stdout",
     "output_type": "stream",
     "text": [
      "<class 'float'>\n",
      "1200.0\n"
     ]
    }
   ],
   "source": [
    "#data type float\n",
    "\n",
    "a=1.2e3\n",
    "print(type(a))\n",
    "print(a)"
   ]
  },
  {
   "cell_type": "code",
   "execution_count": 35,
   "id": "e4cfab23",
   "metadata": {},
   "outputs": [
    {
     "name": "stdout",
     "output_type": "stream",
     "text": [
      "<class 'complex'>\n",
      "(3+3j)\n",
      "(9+3j)\n",
      "(17+3j)\n",
      "(31+3j)\n",
      "(3+0j)\n",
      "(2.3+4.5j)\n",
      "2.3\n",
      "4.0\n"
     ]
    }
   ],
   "source": [
    "#complex data type\n",
    "\n",
    "a=2+3j\n",
    "print(type(a))\n",
    "\n",
    "x=0b11+3j\n",
    "print(x)\n",
    "\n",
    "y=0o11+3j\n",
    "print(y)\n",
    "\n",
    "z=0x11+3j\n",
    "print(z)\n",
    "\n",
    "b=0x1F+3j\n",
    "print(b)\n",
    "\n",
    "#c=0b11+0b01j\n",
    "#error invalid binary literal\n",
    "\n",
    "d=3+0j\n",
    "print(d)\n",
    "\n",
    "e=2.3+4.5j\n",
    "print(e)\n",
    "\n",
    "#f=0b11.11+3j\n",
    "#print(f)\n",
    "#error invalid syntax\n",
    "\n",
    "g=2.3+4j\n",
    "print(g.real)\n",
    "print(g.imag)"
   ]
  },
  {
   "cell_type": "code",
   "execution_count": 37,
   "id": "ee5de5f4",
   "metadata": {},
   "outputs": [
    {
     "name": "stdout",
     "output_type": "stream",
     "text": [
      "<class 'bool'>\n",
      "<class 'bool'>\n",
      "None\n"
     ]
    }
   ],
   "source": [
    "# boolean data type\n",
    "\n",
    "a=True\n",
    "b=False\n",
    "print(type(a))\n",
    "print(type(b))\n",
    "\n",
    "c=None\n",
    "print((c))"
   ]
  },
  {
   "cell_type": "code",
   "execution_count": 39,
   "id": "b54f8536",
   "metadata": {},
   "outputs": [
    {
     "name": "stdout",
     "output_type": "stream",
     "text": [
      "c:  True\n",
      "d:  False\n",
      "<class 'bool'>\n"
     ]
    }
   ],
   "source": [
    "#boolean output check\n",
    "\n",
    "a=20\n",
    "b=30\n",
    "c=b>a\n",
    "d=b<a\n",
    "print(\"c: \",c)\n",
    "print(\"d: \",d)\n",
    "print(type(c))"
   ]
  },
  {
   "cell_type": "code",
   "execution_count": 49,
   "id": "1bada5d9",
   "metadata": {},
   "outputs": [
    {
     "name": "stdout",
     "output_type": "stream",
     "text": [
      "<class 'str'> <class 'str'>\n",
      "<class 'str'> <class 'str'>\n",
      "learning python is very easy\n",
      "learing python\n",
      "is easy\n"
     ]
    }
   ],
   "source": [
    "# string data type\n",
    "\n",
    "x=\"hello\"\n",
    "y='python'\n",
    "print(type(x),type(y))\n",
    "\n",
    "z='Q'\n",
    "p=\"M\"\n",
    "print(type(z),type(p))\n",
    "\n",
    "r=\"learning python is very easy\"\n",
    "print(r)\n",
    "\n",
    "#s=\"learning python\n",
    "    #is very easy\"\n",
    "#print(s)\n",
    "#error\n",
    "\n",
    "t='''learing python\n",
    "is easy'''\n",
    "print(t)\n",
    "\n"
   ]
  },
  {
   "cell_type": "code",
   "execution_count": 58,
   "id": "d54387d4",
   "metadata": {},
   "outputs": [
    {
     "data": {
      "text/plain": [
       "52"
      ]
     },
     "execution_count": 58,
     "metadata": {},
     "output_type": "execute_result"
    }
   ],
   "source": [
    "#type conversions int\n",
    "\n",
    "int(45)\n",
    "#int('Hi')\n",
    "#int(3+4j)\n",
    "int(True)\n",
    "#int(None)\n",
    "int(a)"
   ]
  },
  {
   "cell_type": "code",
   "execution_count": 63,
   "id": "dbf0b36b",
   "metadata": {},
   "outputs": [
    {
     "data": {
      "text/plain": [
       "10.0"
      ]
     },
     "execution_count": 63,
     "metadata": {},
     "output_type": "execute_result"
    }
   ],
   "source": [
    "#type conversions float\n",
    "\n",
    "float(20)\n",
    "#float(25+3j)\n",
    "float(False)\n",
    "float('10')\n",
    "#float('Hello')"
   ]
  },
  {
   "cell_type": "code",
   "execution_count": 64,
   "id": "29eb87cb",
   "metadata": {},
   "outputs": [
    {
     "data": {
      "text/plain": [
       "(10+0j)"
      ]
     },
     "execution_count": 64,
     "metadata": {},
     "output_type": "execute_result"
    }
   ],
   "source": [
    "#type conversions complex\n",
    "\n",
    "complex(10)"
   ]
  },
  {
   "cell_type": "code",
   "execution_count": 65,
   "id": "fc9f8117",
   "metadata": {},
   "outputs": [
    {
     "data": {
      "text/plain": [
       "(1+0j)"
      ]
     },
     "execution_count": 65,
     "metadata": {},
     "output_type": "execute_result"
    }
   ],
   "source": [
    "#type conversions comples\n",
    "\n",
    "complex(True)"
   ]
  },
  {
   "cell_type": "code",
   "execution_count": 66,
   "id": "986cdf86",
   "metadata": {},
   "outputs": [
    {
     "data": {
      "text/plain": [
       "(4.5+0j)"
      ]
     },
     "execution_count": 66,
     "metadata": {},
     "output_type": "execute_result"
    }
   ],
   "source": [
    "#type conversions comples\n",
    "\n",
    "complex(4.5)"
   ]
  },
  {
   "cell_type": "code",
   "execution_count": 67,
   "id": "f7d8a2a0",
   "metadata": {},
   "outputs": [
    {
     "data": {
      "text/plain": [
       "(10+0j)"
      ]
     },
     "execution_count": 67,
     "metadata": {},
     "output_type": "execute_result"
    }
   ],
   "source": [
    "#type conversions comples\n",
    "\n",
    "complex('10')"
   ]
  },
  {
   "cell_type": "code",
   "execution_count": 68,
   "id": "0f982747",
   "metadata": {},
   "outputs": [
    {
     "data": {
      "text/plain": [
       "(4.5+0j)"
      ]
     },
     "execution_count": 68,
     "metadata": {},
     "output_type": "execute_result"
    }
   ],
   "source": [
    "#type conversions comples\n",
    "\n",
    "complex(\"4.5\")"
   ]
  },
  {
   "cell_type": "code",
   "execution_count": 69,
   "id": "1be29191",
   "metadata": {},
   "outputs": [
    {
     "ename": "ValueError",
     "evalue": "complex() arg is a malformed string",
     "output_type": "error",
     "traceback": [
      "\u001b[1;31m---------------------------------------------------------------------------\u001b[0m",
      "\u001b[1;31mValueError\u001b[0m                                Traceback (most recent call last)",
      "Cell \u001b[1;32mIn[69], line 3\u001b[0m\n\u001b[0;32m      1\u001b[0m \u001b[38;5;66;03m#type conversions comples\u001b[39;00m\n\u001b[1;32m----> 3\u001b[0m \u001b[38;5;28mcomplex\u001b[39m(\u001b[38;5;124m'\u001b[39m\u001b[38;5;124mHi\u001b[39m\u001b[38;5;124m'\u001b[39m)\n",
      "\u001b[1;31mValueError\u001b[0m: complex() arg is a malformed string"
     ]
    }
   ],
   "source": [
    "#type conversions comples\n",
    "\n",
    "complex('Hi')"
   ]
  },
  {
   "cell_type": "code",
   "execution_count": 70,
   "id": "64378aaa",
   "metadata": {},
   "outputs": [
    {
     "ename": "NameError",
     "evalue": "name 'H' is not defined",
     "output_type": "error",
     "traceback": [
      "\u001b[1;31m---------------------------------------------------------------------------\u001b[0m",
      "\u001b[1;31mNameError\u001b[0m                                 Traceback (most recent call last)",
      "Cell \u001b[1;32mIn[70], line 3\u001b[0m\n\u001b[0;32m      1\u001b[0m \u001b[38;5;66;03m#type conversions comples\u001b[39;00m\n\u001b[1;32m----> 3\u001b[0m \u001b[38;5;28mcomplex\u001b[39m(H)\n",
      "\u001b[1;31mNameError\u001b[0m: name 'H' is not defined"
     ]
    }
   ],
   "source": [
    "#type conversions comples\n",
    "\n",
    "complex(H)"
   ]
  },
  {
   "cell_type": "code",
   "execution_count": 71,
   "id": "18dc2405",
   "metadata": {},
   "outputs": [
    {
     "data": {
      "text/plain": [
       "(10+5j)"
      ]
     },
     "execution_count": 71,
     "metadata": {},
     "output_type": "execute_result"
    }
   ],
   "source": [
    "#type conversions complex\n",
    "\n",
    "complex(10,5)"
   ]
  },
  {
   "cell_type": "code",
   "execution_count": 72,
   "id": "fbeafaee",
   "metadata": {},
   "outputs": [
    {
     "data": {
      "text/plain": [
       "(4.5+2.5j)"
      ]
     },
     "execution_count": 72,
     "metadata": {},
     "output_type": "execute_result"
    }
   ],
   "source": [
    "#type conversions complex\n",
    "\n",
    "complex(4.5,2.5)"
   ]
  },
  {
   "cell_type": "code",
   "execution_count": 73,
   "id": "ae0b8c15",
   "metadata": {},
   "outputs": [
    {
     "data": {
      "text/plain": [
       "(1+0j)"
      ]
     },
     "execution_count": 73,
     "metadata": {},
     "output_type": "execute_result"
    }
   ],
   "source": [
    "#type conversions complex\n",
    "\n",
    "complex(True,False)"
   ]
  },
  {
   "cell_type": "code",
   "execution_count": 74,
   "id": "34446a6c",
   "metadata": {},
   "outputs": [
    {
     "ename": "TypeError",
     "evalue": "complex() can't take second arg if first is a string",
     "output_type": "error",
     "traceback": [
      "\u001b[1;31m---------------------------------------------------------------------------\u001b[0m",
      "\u001b[1;31mTypeError\u001b[0m                                 Traceback (most recent call last)",
      "Cell \u001b[1;32mIn[74], line 3\u001b[0m\n\u001b[0;32m      1\u001b[0m \u001b[38;5;66;03m#type conversions comples\u001b[39;00m\n\u001b[1;32m----> 3\u001b[0m \u001b[38;5;28mcomplex\u001b[39m(\u001b[38;5;124m'\u001b[39m\u001b[38;5;124m10\u001b[39m\u001b[38;5;124m'\u001b[39m,\u001b[38;5;124m'\u001b[39m\u001b[38;5;124m12\u001b[39m\u001b[38;5;124m'\u001b[39m)\n",
      "\u001b[1;31mTypeError\u001b[0m: complex() can't take second arg if first is a string"
     ]
    }
   ],
   "source": [
    "#type conversions complex\n",
    "\n",
    "complex('10','12')"
   ]
  },
  {
   "cell_type": "code",
   "execution_count": 75,
   "id": "f0804c3a",
   "metadata": {},
   "outputs": [
    {
     "ename": "TypeError",
     "evalue": "complex() can't take second arg if first is a string",
     "output_type": "error",
     "traceback": [
      "\u001b[1;31m---------------------------------------------------------------------------\u001b[0m",
      "\u001b[1;31mTypeError\u001b[0m                                 Traceback (most recent call last)",
      "Cell \u001b[1;32mIn[75], line 3\u001b[0m\n\u001b[0;32m      1\u001b[0m \u001b[38;5;66;03m#type conversions comples\u001b[39;00m\n\u001b[1;32m----> 3\u001b[0m \u001b[38;5;28mcomplex\u001b[39m(\u001b[38;5;124m'\u001b[39m\u001b[38;5;124m4.5\u001b[39m\u001b[38;5;124m'\u001b[39m,\u001b[38;5;124m'\u001b[39m\u001b[38;5;124m6.5\u001b[39m\u001b[38;5;124m'\u001b[39m)\n",
      "\u001b[1;31mTypeError\u001b[0m: complex() can't take second arg if first is a string"
     ]
    }
   ],
   "source": [
    "#type conversions complex\n",
    "\n",
    "complex('4.5','6.5')"
   ]
  },
  {
   "cell_type": "code",
   "execution_count": 76,
   "id": "bce3f493",
   "metadata": {},
   "outputs": [
    {
     "ename": "TypeError",
     "evalue": "complex() can't take second arg if first is a string",
     "output_type": "error",
     "traceback": [
      "\u001b[1;31m---------------------------------------------------------------------------\u001b[0m",
      "\u001b[1;31mTypeError\u001b[0m                                 Traceback (most recent call last)",
      "Cell \u001b[1;32mIn[76], line 3\u001b[0m\n\u001b[0;32m      1\u001b[0m \u001b[38;5;66;03m#type conversions comples\u001b[39;00m\n\u001b[1;32m----> 3\u001b[0m \u001b[38;5;28mcomplex\u001b[39m(\u001b[38;5;124m'\u001b[39m\u001b[38;5;124m4.5\u001b[39m\u001b[38;5;124m'\u001b[39m,\u001b[38;5;241m6\u001b[39m)\n",
      "\u001b[1;31mTypeError\u001b[0m: complex() can't take second arg if first is a string"
     ]
    }
   ],
   "source": [
    "#type conversions complex\n",
    "\n",
    "complex('4.5',6)"
   ]
  },
  {
   "cell_type": "code",
   "execution_count": 77,
   "id": "6f6b3c17",
   "metadata": {},
   "outputs": [
    {
     "data": {
      "text/plain": [
       "1j"
      ]
     },
     "execution_count": 77,
     "metadata": {},
     "output_type": "execute_result"
    }
   ],
   "source": [
    "#type conversions complex\n",
    "\n",
    "complex(False,True)"
   ]
  },
  {
   "cell_type": "code",
   "execution_count": 78,
   "id": "d6952b1f",
   "metadata": {},
   "outputs": [
    {
     "data": {
      "text/plain": [
       "True"
      ]
     },
     "execution_count": 78,
     "metadata": {},
     "output_type": "execute_result"
    }
   ],
   "source": [
    "#boolean type conversions\n",
    "\n",
    "bool(4)"
   ]
  },
  {
   "cell_type": "code",
   "execution_count": 79,
   "id": "94e636f2",
   "metadata": {},
   "outputs": [
    {
     "data": {
      "text/plain": [
       "True"
      ]
     },
     "execution_count": 79,
     "metadata": {},
     "output_type": "execute_result"
    }
   ],
   "source": [
    "#boolean type conversions\n",
    "\n",
    "bool(-3)"
   ]
  },
  {
   "cell_type": "code",
   "execution_count": 80,
   "id": "a791a662",
   "metadata": {},
   "outputs": [
    {
     "data": {
      "text/plain": [
       "False"
      ]
     },
     "execution_count": 80,
     "metadata": {},
     "output_type": "execute_result"
    }
   ],
   "source": [
    "#boolean type conversions\n",
    "\n",
    "bool(0)"
   ]
  },
  {
   "cell_type": "code",
   "execution_count": 81,
   "id": "86cf756b",
   "metadata": {},
   "outputs": [
    {
     "data": {
      "text/plain": [
       "True"
      ]
     },
     "execution_count": 81,
     "metadata": {},
     "output_type": "execute_result"
    }
   ],
   "source": [
    "#boolean type conversions\n",
    "\n",
    "bool(1.5)"
   ]
  },
  {
   "cell_type": "code",
   "execution_count": 82,
   "id": "1f47513c",
   "metadata": {},
   "outputs": [
    {
     "data": {
      "text/plain": [
       "False"
      ]
     },
     "execution_count": 82,
     "metadata": {},
     "output_type": "execute_result"
    }
   ],
   "source": [
    "#boolean type conversions\n",
    "\n",
    "bool(0.0)"
   ]
  },
  {
   "cell_type": "code",
   "execution_count": 83,
   "id": "0a946303",
   "metadata": {},
   "outputs": [
    {
     "data": {
      "text/plain": [
       "True"
      ]
     },
     "execution_count": 83,
     "metadata": {},
     "output_type": "execute_result"
    }
   ],
   "source": [
    "#boolean type conversions\n",
    "\n",
    "bool('10')"
   ]
  },
  {
   "cell_type": "code",
   "execution_count": 84,
   "id": "05e4cb5f",
   "metadata": {},
   "outputs": [
    {
     "data": {
      "text/plain": [
       "True"
      ]
     },
     "execution_count": 84,
     "metadata": {},
     "output_type": "execute_result"
    }
   ],
   "source": [
    "#boolean type conversions\n",
    "\n",
    "bool(\"4.5\")"
   ]
  },
  {
   "cell_type": "code",
   "execution_count": 85,
   "id": "c8d756c8",
   "metadata": {},
   "outputs": [
    {
     "data": {
      "text/plain": [
       "True"
      ]
     },
     "execution_count": 85,
     "metadata": {},
     "output_type": "execute_result"
    }
   ],
   "source": [
    "#boolean type conversions\n",
    "\n",
    "bool('Hi')"
   ]
  },
  {
   "cell_type": "code",
   "execution_count": 86,
   "id": "121300bb",
   "metadata": {},
   "outputs": [
    {
     "data": {
      "text/plain": [
       "False"
      ]
     },
     "execution_count": 86,
     "metadata": {},
     "output_type": "execute_result"
    }
   ],
   "source": [
    "#boolean type conversions\n",
    "\n",
    "bool(None)"
   ]
  },
  {
   "cell_type": "code",
   "execution_count": 87,
   "id": "587185fc",
   "metadata": {},
   "outputs": [
    {
     "data": {
      "text/plain": [
       "True"
      ]
     },
     "execution_count": 87,
     "metadata": {},
     "output_type": "execute_result"
    }
   ],
   "source": [
    "#boolean type conversions\n",
    "\n",
    "bool(0+3j)"
   ]
  },
  {
   "cell_type": "code",
   "execution_count": 88,
   "id": "4149f2c9",
   "metadata": {},
   "outputs": [
    {
     "data": {
      "text/plain": [
       "False"
      ]
     },
     "execution_count": 88,
     "metadata": {},
     "output_type": "execute_result"
    }
   ],
   "source": [
    "#boolean type conversions\n",
    "\n",
    "bool(0+0j)"
   ]
  },
  {
   "cell_type": "code",
   "execution_count": 90,
   "id": "5c745f3b",
   "metadata": {},
   "outputs": [
    {
     "data": {
      "text/plain": [
       "False"
      ]
     },
     "execution_count": 90,
     "metadata": {},
     "output_type": "execute_result"
    }
   ],
   "source": [
    "#boolean type conversions\n",
    "\n",
    "bool('')"
   ]
  },
  {
   "cell_type": "code",
   "execution_count": 91,
   "id": "7de571ae",
   "metadata": {},
   "outputs": [
    {
     "data": {
      "text/plain": [
       "True"
      ]
     },
     "execution_count": 91,
     "metadata": {},
     "output_type": "execute_result"
    }
   ],
   "source": [
    "#boolean type conversions\n",
    "\n",
    "bool(' ')"
   ]
  },
  {
   "cell_type": "code",
   "execution_count": 92,
   "id": "b67bfc8f",
   "metadata": {},
   "outputs": [
    {
     "data": {
      "text/plain": [
       "'4.5'"
      ]
     },
     "execution_count": 92,
     "metadata": {},
     "output_type": "execute_result"
    }
   ],
   "source": [
    "#str type conversions\n",
    "\n",
    "str(4.5)"
   ]
  },
  {
   "cell_type": "code",
   "execution_count": 93,
   "id": "8e895d91",
   "metadata": {},
   "outputs": [
    {
     "data": {
      "text/plain": [
       "'45'"
      ]
     },
     "execution_count": 93,
     "metadata": {},
     "output_type": "execute_result"
    }
   ],
   "source": [
    "#str type conversions\n",
    "\n",
    "str(45)"
   ]
  },
  {
   "cell_type": "code",
   "execution_count": 94,
   "id": "0939254a",
   "metadata": {},
   "outputs": [
    {
     "data": {
      "text/plain": [
       "'(3+5j)'"
      ]
     },
     "execution_count": 94,
     "metadata": {},
     "output_type": "execute_result"
    }
   ],
   "source": [
    "#str type conversions\n",
    "\n",
    "str(3+5j)"
   ]
  },
  {
   "cell_type": "code",
   "execution_count": 95,
   "id": "0dd8501c",
   "metadata": {},
   "outputs": [
    {
     "data": {
      "text/plain": [
       "'False'"
      ]
     },
     "execution_count": 95,
     "metadata": {},
     "output_type": "execute_result"
    }
   ],
   "source": [
    "#str type conversions\n",
    "\n",
    "str(False)"
   ]
  },
  {
   "cell_type": "code",
   "execution_count": 96,
   "id": "7c466192",
   "metadata": {},
   "outputs": [
    {
     "data": {
      "text/plain": [
       "' '"
      ]
     },
     "execution_count": 96,
     "metadata": {},
     "output_type": "execute_result"
    }
   ],
   "source": [
    "#str type conversions\n",
    "\n",
    "str(' ')"
   ]
  },
  {
   "cell_type": "code",
   "execution_count": 99,
   "id": "a22fe527",
   "metadata": {},
   "outputs": [
    {
     "data": {
      "text/plain": [
       "'A'"
      ]
     },
     "execution_count": 99,
     "metadata": {},
     "output_type": "execute_result"
    }
   ],
   "source": [
    "#ascii\n",
    "\n",
    "chr(65)"
   ]
  },
  {
   "cell_type": "code",
   "execution_count": 100,
   "id": "fe38601a",
   "metadata": {},
   "outputs": [
    {
     "data": {
      "text/plain": [
       "'Z'"
      ]
     },
     "execution_count": 100,
     "metadata": {},
     "output_type": "execute_result"
    }
   ],
   "source": [
    "#ascii\n",
    "\n",
    "chr(90)"
   ]
  },
  {
   "cell_type": "code",
   "execution_count": 105,
   "id": "d013b618",
   "metadata": {},
   "outputs": [
    {
     "data": {
      "text/plain": [
       "97"
      ]
     },
     "execution_count": 105,
     "metadata": {},
     "output_type": "execute_result"
    }
   ],
   "source": [
    "#ascii\n",
    "\n",
    "ord('a')"
   ]
  },
  {
   "cell_type": "code",
   "execution_count": 108,
   "id": "b30fdc07",
   "metadata": {},
   "outputs": [
    {
     "data": {
      "text/plain": [
       "48"
      ]
     },
     "execution_count": 108,
     "metadata": {},
     "output_type": "execute_result"
    }
   ],
   "source": [
    "ord('0')"
   ]
  },
  {
   "cell_type": "code",
   "execution_count": 113,
   "id": "9ab43368",
   "metadata": {},
   "outputs": [
    {
     "data": {
      "text/plain": [
       "64"
      ]
     },
     "execution_count": 113,
     "metadata": {},
     "output_type": "execute_result"
    }
   ],
   "source": [
    "#ascii\n",
    "\n",
    "ord('@')"
   ]
  },
  {
   "cell_type": "code",
   "execution_count": 118,
   "id": "2277c171",
   "metadata": {},
   "outputs": [
    {
     "data": {
      "text/plain": [
       "True"
      ]
     },
     "execution_count": 118,
     "metadata": {},
     "output_type": "execute_result"
    }
   ],
   "source": [
    "bool('a'>'D')"
   ]
  },
  {
   "cell_type": "code",
   "execution_count": 120,
   "id": "a3950b31",
   "metadata": {},
   "outputs": [
    {
     "name": "stdout",
     "output_type": "stream",
     "text": [
      "<class 'float'> <class 'int'> <class 'float'> <class 'float'>\n"
     ]
    }
   ],
   "source": [
    "#type casting (implicit)\n",
    "\n",
    "a=3.5\n",
    "b=2\n",
    "c=a/b\n",
    "d=b/a\n",
    "print(type(a),type(b),type(c),type(d))"
   ]
  },
  {
   "cell_type": "code",
   "execution_count": 122,
   "id": "5ceaae71",
   "metadata": {},
   "outputs": [
    {
     "name": "stdout",
     "output_type": "stream",
     "text": [
      "15\n",
      "<class 'int'>\n"
     ]
    }
   ],
   "source": [
    "#type casting (explicit)\n",
    "\n",
    "x=\"10\"\n",
    "y=int(x)+5\n",
    "print(y)\n",
    "print(type(y))"
   ]
  },
  {
   "cell_type": "code",
   "execution_count": 128,
   "id": "793a03c9",
   "metadata": {},
   "outputs": [
    {
     "name": "stdout",
     "output_type": "stream",
     "text": [
      "<class 'list'> <class 'tuple'> <class 'range'>\n"
     ]
    }
   ],
   "source": [
    "#sequence data type\n",
    "\n",
    "my_list=[1,2,3]\n",
    "my_tuple=(1,2,3)\n",
    "my_range=range(5)\n",
    "\n",
    "print(type(my_list),type(my_tuple),type(my_range))"
   ]
  },
  {
   "cell_type": "code",
   "execution_count": 129,
   "id": "d00caff2",
   "metadata": {},
   "outputs": [
    {
     "name": "stdout",
     "output_type": "stream",
     "text": [
      "<class 'dict'>\n"
     ]
    }
   ],
   "source": [
    "#mapping data type\n",
    "\n",
    "details={\"name\":\"Alice\",\"age\":25}\n",
    "print(type(details))"
   ]
  },
  {
   "cell_type": "code",
   "execution_count": 130,
   "id": "f843cc57",
   "metadata": {},
   "outputs": [
    {
     "name": "stdout",
     "output_type": "stream",
     "text": [
      "<class 'set'>\n",
      "<class 'frozenset'>\n"
     ]
    }
   ],
   "source": [
    "#set type\n",
    "\n",
    "my_set={1,2,3}\n",
    "my_frozenset=frozenset([6,7,5])\n",
    "\n",
    "print(type(my_set))\n",
    "print(type(my_frozenset))"
   ]
  },
  {
   "cell_type": "code",
   "execution_count": 134,
   "id": "62c2ddbc",
   "metadata": {},
   "outputs": [
    {
     "name": "stdout",
     "output_type": "stream",
     "text": [
      "x+y= 17\n",
      "x-y= -1\n",
      "x*y= 72\n",
      "x/y= 0.8888888888888888\n",
      "x%y= 8\n",
      "x//y= 0\n",
      "x**y= 134217728\n"
     ]
    }
   ],
   "source": [
    "#arithematic operators\n",
    "\n",
    "x=8\n",
    "y=9\n",
    "print(\"x+y=\",x+y)\n",
    "print(\"x-y=\",x-y)\n",
    "print(\"x*y=\",x*y)\n",
    "print(\"x/y=\",x/y)\n",
    "print(\"x%y=\",x%y)\n",
    "print(\"x//y=\",x//y)\n",
    "print(\"x**y=\",x**y)"
   ]
  },
  {
   "cell_type": "code",
   "execution_count": 136,
   "id": "7f66f5d2",
   "metadata": {},
   "outputs": [
    {
     "name": "stdout",
     "output_type": "stream",
     "text": [
      "x==y= False\n",
      "x!=y= True\n",
      "x>y= True\n",
      "x<y= False\n",
      "x>=y= True\n",
      "x<=y= False\n"
     ]
    }
   ],
   "source": [
    "#realationsl operators\n",
    "\n",
    "x=5\n",
    "y=3\n",
    "print(\"x==y=\",x==y)\n",
    "print(\"x!=y=\",x!=y)\n",
    "print(\"x>y=\",x>y)\n",
    "print(\"x<y=\",x<y)\n",
    "print(\"x>=y=\",x>=y)\n",
    "print(\"x<=y=\",x<=y)"
   ]
  },
  {
   "cell_type": "code",
   "execution_count": 137,
   "id": "b6db730b",
   "metadata": {},
   "outputs": [
    {
     "name": "stdout",
     "output_type": "stream",
     "text": [
      "False\n",
      "True\n",
      "True\n",
      "False\n"
     ]
    }
   ],
   "source": [
    "#logical operators\n",
    "\n",
    "a=5\n",
    "b=6\n",
    "c=3\n",
    "print((a>b) and (b!=c))\n",
    "print((a>b) or (b!=c))\n",
    "print(not(a>b))\n",
    "print((a>b)) and (not(b))"
   ]
  },
  {
   "cell_type": "code",
   "execution_count": 140,
   "id": "8f3161f6",
   "metadata": {},
   "outputs": [
    {
     "name": "stdout",
     "output_type": "stream",
     "text": [
      "1\n",
      "7\n",
      "6\n",
      "-6\n",
      "-4\n",
      "10\n",
      "2\n"
     ]
    }
   ],
   "source": [
    "#bitwise operator\n",
    "\n",
    "a=5\n",
    "b=3\n",
    "\n",
    "print((a&b))\n",
    "print((a|b))\n",
    "print((a^b))\n",
    "print((~a))\n",
    "print((~b))\n",
    "print((a<<1))\n",
    "print((a>>1))"
   ]
  },
  {
   "cell_type": "code",
   "execution_count": 151,
   "id": "42508fed",
   "metadata": {},
   "outputs": [
    {
     "name": "stdout",
     "output_type": "stream",
     "text": [
      "before swapping\n",
      "x= 2\n",
      "y= 3\n",
      "after swapping\n",
      "x= 3\n",
      "y= 2\n"
     ]
    }
   ],
   "source": [
    "#swapping of two operators using butwise operator\n",
    "\n",
    "x=2\n",
    "y=3\n",
    "\n",
    "print(\"before swapping\")\n",
    "print(\"x=\",x)\n",
    "print(\"y=\",y)\n",
    "x=x^y\n",
    "y=x^y\n",
    "x=y^x\n",
    "print(\"after swapping\")\n",
    "print(\"x=\",x)\n",
    "print(\"y=\",y)"
   ]
  },
  {
   "cell_type": "code",
   "execution_count": 152,
   "id": "df58bee0",
   "metadata": {},
   "outputs": [
    {
     "name": "stdout",
     "output_type": "stream",
     "text": [
      "True\n",
      "False\n"
     ]
    }
   ],
   "source": [
    "#using in and not in\n",
    "\n",
    "text=\"python is busy\"\n",
    "print(\"busy\" in text)\n",
    "print(\"python\" not in text)\n"
   ]
  },
  {
   "cell_type": "code",
   "execution_count": 8,
   "id": "117bb5ec",
   "metadata": {},
   "outputs": [
    {
     "name": "stdout",
     "output_type": "stream",
     "text": [
      "m\n",
      "t\n",
      "e\n"
     ]
    }
   ],
   "source": [
    "#string indexing\n",
    "\n",
    "str1='computer'\n",
    "print(str1[2])\n",
    "print(str1[-3])\n",
    "var=str1[6]\n",
    "print(var)"
   ]
  },
  {
   "cell_type": "code",
   "execution_count": 19,
   "id": "696066ff",
   "metadata": {},
   "outputs": [
    {
     "name": "stdout",
     "output_type": "stream",
     "text": [
      "python\n",
      "python\n",
      "programming\n",
      "n pro\n",
      "pto rgamn\n",
      "\n",
      "rgam\n",
      "pto rg\n",
      "gnimmargorp nohtyp\n",
      "python programming\n"
     ]
    }
   ],
   "source": [
    "#string slicing\n",
    "\n",
    "text=\"python programming\"\n",
    "\n",
    "print(text[0:6])\n",
    "print(text[:6])\n",
    "print(text[7:])\n",
    "print(text[5:-8])\n",
    "print(text[::2])\n",
    "print(text[-10:-17])\n",
    "print(text[8:16:2])\n",
    "print(text[0:12:2])\n",
    "print(text[::-1])     #to print reverse string\n",
    "print(text[::])"
   ]
  },
  {
   "cell_type": "code",
   "execution_count": 25,
   "id": "3c6f3291",
   "metadata": {},
   "outputs": [
    {
     "name": "stdout",
     "output_type": "stream",
     "text": [
      "My name is Alice and i am 19 years old.\n",
      "My name is Alice and i am 19 years old.\n",
      "My name is Alice and i am 19 years old.\n"
     ]
    }
   ],
   "source": [
    "#string formatting\n",
    "\n",
    "name=\"Alice\"\n",
    "age=\"19\"\n",
    "print(\"My name is {} and i am {} years old.\".format(name,age))\n",
    "print(\"My name is {1} and i am {0} years old.\".format(age,name))\n",
    "print(\"My name is {a} and i am {b} years old.\".format(a=name,b=age))"
   ]
  },
  {
   "cell_type": "code",
   "execution_count": 27,
   "id": "1cb3e545",
   "metadata": {},
   "outputs": [
    {
     "name": "stdout",
     "output_type": "stream",
     "text": [
      "My name is Alice and i am 19 years old.\n"
     ]
    }
   ],
   "source": [
    "#string formatting\n",
    "\n",
    "name=\"Alice\"\n",
    "age=19\n",
    "print(\"My name is %s and i am %d years old.\"%(name,age))"
   ]
  },
  {
   "cell_type": "code",
   "execution_count": 38,
   "id": "b4465f01",
   "metadata": {},
   "outputs": [
    {
     "name": "stdout",
     "output_type": "stream",
     "text": [
      "python programming\n"
     ]
    }
   ],
   "source": [
    "#joining of strings\n",
    "\n",
    "str1=\"python \"\n",
    "str2=\"programming\"\n",
    "result=str1+str2\n",
    "print(result)"
   ]
  },
  {
   "cell_type": "code",
   "execution_count": 40,
   "id": "a0e298aa",
   "metadata": {},
   "outputs": [
    {
     "name": "stdout",
     "output_type": "stream",
     "text": [
      "python python python python \n",
      "python python python python python \n"
     ]
    }
   ],
   "source": [
    "#repetition a string\n",
    "\n",
    "text=\"python \"\n",
    "print(text*4)\n",
    "print(5*text)"
   ]
  },
  {
   "cell_type": "code",
   "execution_count": 42,
   "id": "5f93ebf5",
   "metadata": {},
   "outputs": [
    {
     "name": "stdout",
     "output_type": "stream",
     "text": [
      "True\n",
      "True\n",
      "False\n"
     ]
    }
   ],
   "source": [
    "#checking for substring using in and not\n",
    "\n",
    "text=\"Python Programming\"\n",
    "print(\"Python\" in text)\n",
    "print(\"Java\" not in text)\n",
    "print(\"Programming\" not in text)"
   ]
  },
  {
   "cell_type": "code",
   "execution_count": 51,
   "id": "d5f474c3",
   "metadata": {},
   "outputs": [
    {
     "name": "stdout",
     "output_type": "stream",
     "text": [
      "The integer number is: 123\n",
      "The integer number is: 123\n",
      "The integer number is:   123\n",
      "The integer number is: 00123\n",
      "The integer number is: 123.456700\n",
      "The integer number is:  123.457\n",
      "The integer number is: 0123.457\n"
     ]
    }
   ],
   "source": [
    "print(\"The integer number is: {}\".format(123))\n",
    "print(\"The integer number is: {:d}\".format(123))\n",
    "print(\"The integer number is: {:5d}\".format(123))\n",
    "print(\"The integer number is: {:05d}\".format(123))\n",
    "print(\"The integer number is: {:f}\".format(123.4567))\n",
    "print(\"The integer number is: {:8.3f}\".format(123.4567))\n",
    "print(\"The integer number is: {:08.3f}\".format(123.4567))"
   ]
  },
  {
   "cell_type": "code",
   "execution_count": 52,
   "id": "31588b7c",
   "metadata": {},
   "outputs": [
    {
     "name": "stdout",
     "output_type": "stream",
     "text": [
      "BinaryFormat:1111011\n"
     ]
    }
   ],
   "source": [
    "print(\"BinaryFormat:{0:b}\".format(123))"
   ]
  },
  {
   "cell_type": "code",
   "execution_count": 54,
   "id": "a92ae762",
   "metadata": {},
   "outputs": [
    {
     "name": "stdout",
     "output_type": "stream",
     "text": [
      "OctalFormat:173\n"
     ]
    }
   ],
   "source": [
    "print(\"OctalFormat:{0:o}\".format(123))"
   ]
  },
  {
   "cell_type": "code",
   "execution_count": 55,
   "id": "7e55b590",
   "metadata": {},
   "outputs": [
    {
     "name": "stdout",
     "output_type": "stream",
     "text": [
      "HexadecimalFormat:9A\n"
     ]
    }
   ],
   "source": [
    "print(\"HexadecimalFormat:{0:X}\".format(154))"
   ]
  },
  {
   "cell_type": "code",
   "execution_count": 58,
   "id": "79c51bd5",
   "metadata": {},
   "outputs": [
    {
     "name": "stdout",
     "output_type": "stream",
     "text": [
      "HexadecimalFormat:9a\n"
     ]
    }
   ],
   "source": [
    "print(\"HexadecimalFormat:{0:x}\".format(154))"
   ]
  },
  {
   "cell_type": "code",
   "execution_count": 59,
   "id": "170d5737",
   "metadata": {},
   "outputs": [
    {
     "name": "stdout",
     "output_type": "stream",
     "text": [
      "Integer number:+23\n"
     ]
    }
   ],
   "source": [
    "print(\"Integer number:{:+d}\".format(23))"
   ]
  },
  {
   "cell_type": "code",
   "execution_count": 63,
   "id": "b8f625c5",
   "metadata": {},
   "outputs": [
    {
     "name": "stdout",
     "output_type": "stream",
     "text": [
      "Integer number:-23\n"
     ]
    }
   ],
   "source": [
    "print(\"Integer number:{:d}\".format(-23))"
   ]
  },
  {
   "cell_type": "code",
   "execution_count": 73,
   "id": "f035b034",
   "metadata": {},
   "outputs": [
    {
     "name": "stdout",
     "output_type": "stream",
     "text": [
      " python programming \n",
      " PYTHON PROGRAMMING \n",
      "Python Programming\n",
      "['Python', 'Programming']\n",
      " -P-y-t-h-o-n- -P-r-o-g-r-a-m-m-i-n-g- \n"
     ]
    }
   ],
   "source": [
    "#common string methods\n",
    "\n",
    "text=\" Python Programming \"\n",
    "\n",
    "print(text.lower())\n",
    "print(text.upper())\n",
    "print(text.strip())\n",
    "print(text.split())\n",
    "print(\"-\".join(text))"
   ]
  },
  {
   "cell_type": "code",
   "execution_count": 74,
   "id": "687cb18a",
   "metadata": {},
   "outputs": [
    {
     "name": "stdout",
     "output_type": "stream",
     "text": [
      "Python-Programming\n"
     ]
    }
   ],
   "source": [
    "text=\"Python Programming\"\n",
    "words=text.split()\n",
    "joined=\"-\".join(words)\n",
    "print(joined)"
   ]
  },
  {
   "cell_type": "code",
   "execution_count": 75,
   "id": "d22be325",
   "metadata": {},
   "outputs": [
    {
     "name": "stdout",
     "output_type": "stream",
     "text": [
      "R Programming\n"
     ]
    }
   ],
   "source": [
    "text=\"Python Programming\"\n",
    "print(text.replace(\"Python\",\"R\"))"
   ]
  },
  {
   "cell_type": "code",
   "execution_count": 79,
   "id": "5da39015",
   "metadata": {},
   "outputs": [
    {
     "name": "stdout",
     "output_type": "stream",
     "text": [
      "6\n"
     ]
    }
   ],
   "source": [
    "x='python'\n",
    "print(len(x))"
   ]
  },
  {
   "cell_type": "code",
   "execution_count": 80,
   "id": "b1b2cd74",
   "metadata": {},
   "outputs": [
    {
     "name": "stdout",
     "output_type": "stream",
     "text": [
      "True\n"
     ]
    }
   ],
   "source": [
    "x='python'\n",
    "y='python'\n",
    "print(x==y)"
   ]
  },
  {
   "cell_type": "code",
   "execution_count": 81,
   "id": "bf7c3715",
   "metadata": {},
   "outputs": [
    {
     "name": "stdout",
     "output_type": "stream",
     "text": [
      "False\n"
     ]
    }
   ],
   "source": [
    "x='python'\n",
    "y='java'\n",
    "print(x==y)"
   ]
  },
  {
   "cell_type": "code",
   "execution_count": 82,
   "id": "2a9e4499",
   "metadata": {},
   "outputs": [
    {
     "name": "stdout",
     "output_type": "stream",
     "text": [
      "False\n"
     ]
    }
   ],
   "source": [
    "x='python'\n",
    "y='java'\n",
    "print(x<y)"
   ]
  },
  {
   "cell_type": "code",
   "execution_count": 85,
   "id": "51da9856",
   "metadata": {},
   "outputs": [
    {
     "name": "stdout",
     "output_type": "stream",
     "text": [
      "11\n",
      "-1\n"
     ]
    }
   ],
   "source": [
    "t='BtechAIStudent'\n",
    "print(t.find('e',4,15))\n",
    "print(t.find('e',4,5))"
   ]
  },
  {
   "cell_type": "code",
   "execution_count": 1,
   "id": "3b35b8ef",
   "metadata": {},
   "outputs": [
    {
     "name": "stdout",
     "output_type": "stream",
     "text": [
      "[]\n"
     ]
    }
   ],
   "source": [
    "#list\n",
    "\n",
    "L1=[]\n",
    "print(L1)"
   ]
  },
  {
   "cell_type": "code",
   "execution_count": 7,
   "id": "85e9c39c",
   "metadata": {},
   "outputs": [
    {
     "name": "stdout",
     "output_type": "stream",
     "text": [
      "[2, 3.4, 5, 'hello']\n",
      "[2, 10, 5, 'hello']\n"
     ]
    }
   ],
   "source": [
    "L2=[2,3.4,5,\"hello\"]\n",
    "print(L2)\n",
    "L2[1]=10\n",
    "print(L2)"
   ]
  },
  {
   "cell_type": "code",
   "execution_count": 5,
   "id": "11717b04",
   "metadata": {},
   "outputs": [
    {
     "name": "stdout",
     "output_type": "stream",
     "text": [
      "5.6\n",
      "python\n"
     ]
    }
   ],
   "source": [
    "L3=[2,3,4,5.6,\"python\"]\n",
    "print(L3[3])\n",
    "print(L3[4])"
   ]
  },
  {
   "cell_type": "code",
   "execution_count": 8,
   "id": "242c684c",
   "metadata": {},
   "outputs": [
    {
     "name": "stdout",
     "output_type": "stream",
     "text": [
      "(2, 3.5, 'Hi')\n"
     ]
    }
   ],
   "source": [
    "#tuple\n",
    "\n",
    "t1=(2,3.5,'Hi')\n",
    "print(t1)\n"
   ]
  },
  {
   "cell_type": "code",
   "execution_count": 11,
   "id": "ff2caf16",
   "metadata": {},
   "outputs": [
    {
     "name": "stdout",
     "output_type": "stream",
     "text": [
      "(2, 33, 4.5, 4, 'python')\n"
     ]
    }
   ],
   "source": [
    "t2=(2,33,4.5,4,'python')\n",
    "print(t2)"
   ]
  },
  {
   "cell_type": "code",
   "execution_count": 13,
   "id": "c79feb08",
   "metadata": {},
   "outputs": [
    {
     "name": "stdout",
     "output_type": "stream",
     "text": [
      "(4,)\n",
      "<class 'tuple'>\n"
     ]
    }
   ],
   "source": [
    "t1=(4,)\n",
    "print(t1)\n",
    "print(type(t1))"
   ]
  },
  {
   "cell_type": "code",
   "execution_count": 15,
   "id": "6e21d708",
   "metadata": {},
   "outputs": [
    {
     "name": "stdout",
     "output_type": "stream",
     "text": [
      "(2, 3, 5.6, 'Hi')\n",
      "(5, 3, 5.6, 'Hi')\n"
     ]
    }
   ],
   "source": [
    "t2=(2,3,5.6,'Hi')\n",
    "print(t2)\n",
    "L1=list(t2)\n",
    "L1[0]=5\n",
    "t2=tuple(L1)\n",
    "print(t2)"
   ]
  },
  {
   "cell_type": "code",
   "execution_count": 24,
   "id": "4451534c",
   "metadata": {},
   "outputs": [
    {
     "name": "stdout",
     "output_type": "stream",
     "text": [
      "{2, 3, 4, 5, 6, 7}\n",
      "<class 'set'>\n"
     ]
    }
   ],
   "source": [
    "#set\n",
    "s1={2,3,5,4,6,7,}\n",
    "print(s1)\n",
    "print(type(s1))"
   ]
  },
  {
   "cell_type": "code",
   "execution_count": 17,
   "id": "bcb8a9c9",
   "metadata": {},
   "outputs": [
    {
     "name": "stdout",
     "output_type": "stream",
     "text": [
      "{2, 3, 4, 5, 6, 7}\n"
     ]
    }
   ],
   "source": [
    "print(s1)"
   ]
  },
  {
   "cell_type": "code",
   "execution_count": 18,
   "id": "ff35ac91",
   "metadata": {},
   "outputs": [
    {
     "name": "stdout",
     "output_type": "stream",
     "text": [
      "{34, 5, 22, 7, 8, 56}\n"
     ]
    }
   ],
   "source": [
    "s2={22,34,56,56,5,7,8}\n",
    "print(s2)"
   ]
  },
  {
   "cell_type": "code",
   "execution_count": 19,
   "id": "4af4350a",
   "metadata": {},
   "outputs": [
    {
     "name": "stdout",
     "output_type": "stream",
     "text": [
      "<class 'dict'>\n"
     ]
    }
   ],
   "source": [
    "s3={}\n",
    "print(type(s3))"
   ]
  },
  {
   "cell_type": "code",
   "execution_count": 23,
   "id": "37c6f74d",
   "metadata": {},
   "outputs": [
    {
     "name": "stdout",
     "output_type": "stream",
     "text": [
      "set()\n",
      "<class 'set'>\n"
     ]
    }
   ],
   "source": [
    "s3=set()\n",
    "print(s3)\n",
    "print(type(s3))"
   ]
  },
  {
   "cell_type": "code",
   "execution_count": 25,
   "id": "41abebe3",
   "metadata": {},
   "outputs": [
    {
     "name": "stdout",
     "output_type": "stream",
     "text": [
      "{1: 'singapore', 2: 'ireland', 3: 'United states', 4: 'germany'}\n"
     ]
    }
   ],
   "source": [
    "#dictionary\n",
    "\n",
    "d1={1:\"singapore\",2:\"ireland\",3:\"United states\",4:\"germany\"}\n",
    "print(d1)"
   ]
  },
  {
   "cell_type": "code",
   "execution_count": 26,
   "id": "172bf203",
   "metadata": {},
   "outputs": [
    {
     "data": {
      "text/plain": [
       "2"
      ]
     },
     "execution_count": 26,
     "metadata": {},
     "output_type": "execute_result"
    }
   ],
   "source": [
    "text=\"United states\"\n",
    "text.count('e')"
   ]
  },
  {
   "cell_type": "code",
   "execution_count": 29,
   "id": "9c662815",
   "metadata": {},
   "outputs": [
    {
     "name": "stdout",
     "output_type": "stream",
     "text": [
      "['John', 'Doe']\n"
     ]
    }
   ],
   "source": [
    "#extracting initials from a full name\n",
    "full_name=\"John Doe\"\n",
    "def get_initials(full_name):\n",
    "    name=\"\".join([name[0].upper() name])"
   ]
  },
  {
   "cell_type": "code",
   "execution_count": 31,
   "id": "b7302fbf",
   "metadata": {},
   "outputs": [
    {
     "name": "stdout",
     "output_type": "stream",
     "text": [
      "['python', 'is', 'fun']\n",
      "fun is python\n"
     ]
    }
   ],
   "source": [
    "sentence=\"python is fun\"\n",
    "words=sentence.split()\n",
    "print(words)\n",
    "reversed_sentence=\" \".join(reversed(words))\n",
    "print(reversed_sentence)"
   ]
  },
  {
   "cell_type": "code",
   "execution_count": 32,
   "id": "fb31fde8",
   "metadata": {},
   "outputs": [
    {
     "name": "stdout",
     "output_type": "stream",
     "text": [
      "True\n"
     ]
    }
   ],
   "source": [
    "#palindrome\n",
    "\n",
    "t1=\"madam\"\n",
    "t2=t1[::-1]\n",
    "print(t1==t2)"
   ]
  },
  {
   "cell_type": "code",
   "execution_count": 1,
   "id": "79526eb0",
   "metadata": {},
   "outputs": [
    {
     "data": {
      "text/plain": [
       "False"
      ]
     },
     "execution_count": 1,
     "metadata": {},
     "output_type": "execute_result"
    }
   ],
   "source": [
    "#string operation  islower()\n",
    "\n",
    "text=\"Python Programming\"\n",
    "\n",
    "text.islower()"
   ]
  },
  {
   "cell_type": "code",
   "execution_count": 2,
   "id": "d2c7143e",
   "metadata": {},
   "outputs": [
    {
     "data": {
      "text/plain": [
       "False"
      ]
     },
     "execution_count": 2,
     "metadata": {},
     "output_type": "execute_result"
    }
   ],
   "source": [
    "#string operation  isupper()\n",
    "\n",
    "text=\"Python Programming\"\n",
    "text.isupper()"
   ]
  },
  {
   "cell_type": "code",
   "execution_count": 1,
   "id": "6dc829be",
   "metadata": {},
   "outputs": [
    {
     "data": {
      "text/plain": [
       "'pYTHON pROGRAMMING'"
      ]
     },
     "execution_count": 1,
     "metadata": {},
     "output_type": "execute_result"
    }
   ],
   "source": [
    "#string operation  swapcase()\n",
    "\n",
    "text=\"Python Programming\"\n",
    "text.swapcase()"
   ]
  },
  {
   "cell_type": "code",
   "execution_count": 3,
   "id": "a56e0182",
   "metadata": {},
   "outputs": [
    {
     "data": {
      "text/plain": [
       "'Python programming'"
      ]
     },
     "execution_count": 3,
     "metadata": {},
     "output_type": "execute_result"
    }
   ],
   "source": [
    "#string operation   capitalize()\n",
    "\n",
    "text=\"Python Programming\"\n",
    "text.capitalize()"
   ]
  },
  {
   "cell_type": "code",
   "execution_count": 4,
   "id": "9ecf8c71",
   "metadata": {},
   "outputs": [
    {
     "data": {
      "text/plain": [
       "'Python Programming'"
      ]
     },
     "execution_count": 4,
     "metadata": {},
     "output_type": "execute_result"
    }
   ],
   "source": [
    "#string operation    title()\n",
    "\n",
    "text=\"Python Programming\"\n",
    "text.title()"
   ]
  },
  {
   "cell_type": "code",
   "execution_count": 5,
   "id": "63d649d2",
   "metadata": {},
   "outputs": [
    {
     "data": {
      "text/plain": [
       "False"
      ]
     },
     "execution_count": 5,
     "metadata": {},
     "output_type": "execute_result"
    }
   ],
   "source": [
    "#string operation  isalnum()\n",
    "\n",
    "text=\"Python Programming\"\n",
    "text.isalnum()"
   ]
  },
  {
   "cell_type": "code",
   "execution_count": 6,
   "id": "ab46fcb5",
   "metadata": {},
   "outputs": [
    {
     "data": {
      "text/plain": [
       "False"
      ]
     },
     "execution_count": 6,
     "metadata": {},
     "output_type": "execute_result"
    }
   ],
   "source": [
    "#string operation   isalpha()\n",
    "\n",
    "text=\"Python Programming\"\n",
    "text.isalpha()"
   ]
  },
  {
   "cell_type": "code",
   "execution_count": 7,
   "id": "c8cb6288",
   "metadata": {},
   "outputs": [
    {
     "data": {
      "text/plain": [
       "False"
      ]
     },
     "execution_count": 7,
     "metadata": {},
     "output_type": "execute_result"
    }
   ],
   "source": [
    "#string operation    islower()\n",
    "\n",
    "text=\"Python Programming\"\n",
    "text.islower()"
   ]
  },
  {
   "cell_type": "code",
   "execution_count": 8,
   "id": "b34a6658",
   "metadata": {},
   "outputs": [
    {
     "data": {
      "text/plain": [
       "True"
      ]
     },
     "execution_count": 8,
     "metadata": {},
     "output_type": "execute_result"
    }
   ],
   "source": [
    "#string operation    istitle()\n",
    "\n",
    "text=\"Python Programming\"\n",
    "text.istitle()"
   ]
  },
  {
   "cell_type": "code",
   "execution_count": 9,
   "id": "df503aad",
   "metadata": {},
   "outputs": [
    {
     "data": {
      "text/plain": [
       "False"
      ]
     },
     "execution_count": 9,
     "metadata": {},
     "output_type": "execute_result"
    }
   ],
   "source": [
    "#string operation    isdigit()\n",
    "\n",
    "text=\"Python Programming\"\n",
    "text.isdigit()"
   ]
  },
  {
   "cell_type": "code",
   "execution_count": 10,
   "id": "7c8a5a78",
   "metadata": {},
   "outputs": [
    {
     "data": {
      "text/plain": [
       "False"
      ]
     },
     "execution_count": 10,
     "metadata": {},
     "output_type": "execute_result"
    }
   ],
   "source": [
    "#string operation    isupper()\n",
    "\n",
    "text=\"Python Programming\"\n",
    "text.isupper()"
   ]
  },
  {
   "cell_type": "code",
   "execution_count": 11,
   "id": "ea4f835f",
   "metadata": {},
   "outputs": [
    {
     "data": {
      "text/plain": [
       "False"
      ]
     },
     "execution_count": 11,
     "metadata": {},
     "output_type": "execute_result"
    }
   ],
   "source": [
    "#string operation     islower()\n",
    "\n",
    "text=\"Python Programming\"\n",
    "text.islower()"
   ]
  },
  {
   "cell_type": "code",
   "execution_count": 12,
   "id": "b5a2932a",
   "metadata": {},
   "outputs": [
    {
     "data": {
      "text/plain": [
       "False"
      ]
     },
     "execution_count": 12,
     "metadata": {},
     "output_type": "execute_result"
    }
   ],
   "source": [
    "#string operation    isspace()\n",
    "\n",
    "text=\"Python Programming\"\n",
    "text.isspace()"
   ]
  },
  {
   "cell_type": "code",
   "execution_count": null,
   "id": "6cfa3388",
   "metadata": {},
   "outputs": [],
   "source": [
    "#CONTROL STATEMENTS\n",
    "\n",
    "'''Categorised in three parts:\n",
    "\n",
    "1 conditional\n",
    "2 transfer/jump\n",
    "3 iterative\n",
    "\n",
    "'''"
   ]
  },
  {
   "cell_type": "code",
   "execution_count": null,
   "id": "af3677ca",
   "metadata": {},
   "outputs": [],
   "source": [
    "#conditional (decision making)\n",
    "'''syntax\n",
    " \n",
    "    if condition:\n",
    "         statements    \n",
    "    statements    # not part of if block\n",
    "    '''"
   ]
  },
  {
   "cell_type": "code",
   "execution_count": 17,
   "id": "912278bb",
   "metadata": {},
   "outputs": [
    {
     "name": "stdout",
     "output_type": "stream",
     "text": [
      "Enter age: 19\n",
      "You are eligible to vote.\n"
     ]
    }
   ],
   "source": [
    "#if statement\n",
    "\n",
    "age=int(input(\"Enter age: \"))\n",
    "if age>=18:\n",
    "        print(\"You are eligible to vote.\")"
   ]
  },
  {
   "cell_type": "code",
   "execution_count": 29,
   "id": "5bbdd903",
   "metadata": {},
   "outputs": [
    {
     "name": "stdout",
     "output_type": "stream",
     "text": [
      "Enter a enteger: -8\n",
      "absolute number is:  8\n",
      "absolute value is:  8\n",
      "absolute value is: -8\n"
     ]
    }
   ],
   "source": [
    "#write a python program to convert a number to its absolute value if its negative\n",
    "\n",
    "number=int(input(\"Enter a enteger: \"))\n",
    "if number<0:\n",
    "    print(\"absolute number is: \",(-1)*number)\n",
    "    print(\"absolute value is: \",abs(number))\n",
    "    print(\"absolute value is: {:+d}\".format(x))"
   ]
  },
  {
   "cell_type": "code",
   "execution_count": 30,
   "id": "658051ec",
   "metadata": {},
   "outputs": [
    {
     "name": "stdout",
     "output_type": "stream",
     "text": [
      "Enter a enteger: -8\n",
      "absolute value is: +8\n"
     ]
    }
   ],
   "source": [
    "#covert a number to its absolute if it is negative\n",
    "\n",
    "number=int(input(\"Enter a enteger: \"))\n",
    "if number<0:\n",
    "    x=abs(number)\n",
    "    print(\"absolute value is: {:+d}\".format(x))"
   ]
  },
  {
   "cell_type": "code",
   "execution_count": 40,
   "id": "afb4b76d",
   "metadata": {},
   "outputs": [
    {
     "name": "stdout",
     "output_type": "stream",
     "text": [
      "input number: 45\n",
      "number 45 is odd.\n"
     ]
    }
   ],
   "source": [
    "# if-else statement\n",
    "\n",
    "number=int(input(\"input number: \"))\n",
    "if number%2==0:\n",
    "    print(\"number {} is even.\".format(number))\n",
    "else:\n",
    "    print(\"number {} is odd.\".format(number))"
   ]
  },
  {
   "cell_type": "code",
   "execution_count": 41,
   "id": "aa89f15b",
   "metadata": {},
   "outputs": [
    {
     "name": "stdout",
     "output_type": "stream",
     "text": [
      "Enter any integer: 62\n",
      "The number 62 is positive: \n"
     ]
    }
   ],
   "source": [
    "#to check the number is negative or positive\n",
    "\n",
    "x=int(input(\"Enter any integer: \"))\n",
    "if x<0:\n",
    "    print(\"The number {} is negative: \".format(x))\n",
    "else:\n",
    "    print(\"The number {} is positive: \".format(x))"
   ]
  },
  {
   "cell_type": "code",
   "execution_count": 44,
   "id": "3014dfc6",
   "metadata": {},
   "outputs": [
    {
     "name": "stdout",
     "output_type": "stream",
     "text": [
      "Enter first number: 56\n",
      "Enter second number: 45\n",
      "56 is greater than 45.\n"
     ]
    }
   ],
   "source": [
    "#comparing two numbers\n",
    "\n",
    "x=int(input(\"Enter first number: \"))\n",
    "y=int(input(\"Enter second number: \"))\n",
    "\n",
    "if x>y:\n",
    "    print(\"{} is greater than {}.\".format(x,y))\n",
    "else:\n",
    "    print(\"{} is smaller than {}.\".format(x,y))"
   ]
  },
  {
   "cell_type": "code",
   "execution_count": 45,
   "id": "54777b0f",
   "metadata": {},
   "outputs": [
    {
     "name": "stdout",
     "output_type": "stream",
     "text": [
      "5\n",
      "6\n",
      "5\n"
     ]
    }
   ],
   "source": [
    "#ternary\n",
    "#SYNTAX   exp1 if condition else exp2\n",
    "\n",
    "n1=int(input())\n",
    "n2=int(input())\n",
    "\n",
    "print(n1 if n1<n2 else n2)\n"
   ]
  },
  {
   "cell_type": "code",
   "execution_count": 54,
   "id": "64ba1b21",
   "metadata": {},
   "outputs": [
    {
     "name": "stdout",
     "output_type": "stream",
     "text": [
      "input age: 20\n",
      "input weight in kg: 60\n",
      "Eligible to donate blood.\n"
     ]
    }
   ],
   "source": [
    "# nested if statements\n",
    "\n",
    "#write a python program to check wheather a person can donate a blood or not\n",
    "\n",
    "age=int(input(\"input age: \"))\n",
    "\n",
    "if age>=18:\n",
    "    weight=float(input(\"input weight in kg: \"))\n",
    "    if weight>=50:\n",
    "        print(\"Eligible to donate blood.\")\n",
    "    else:\n",
    "        print(\"Not eligible to donate blood.\")\n",
    "else:\n",
    "    print(\"Not eligible to donate blood.\")"
   ]
  },
  {
   "cell_type": "code",
   "execution_count": 58,
   "id": "b3cefe73",
   "metadata": {},
   "outputs": [
    {
     "name": "stdout",
     "output_type": "stream",
     "text": [
      "input 1st number: 3\n",
      "input 2nd number: 6\n",
      "input 3rd number: 9\n",
      "c is greater\n"
     ]
    }
   ],
   "source": [
    "# find the greatest number among the three\n",
    "\n",
    "a=int(input(\"input 1st number: \"))\n",
    "b=int(input(\"input 2nd number: \"))\n",
    "c=int(input(\"input 3rd number: \"))\n",
    "\n",
    "if a>b:\n",
    "    if a>c:\n",
    "        print(\"a is greater\")\n",
    "    else:\n",
    "        print(\"c is greater\")\n",
    "else:\n",
    "    if b>c:\n",
    "        print(\"b is greater\")\n",
    "    else:\n",
    "        print(\"c is greater\")"
   ]
  },
  {
   "cell_type": "code",
   "execution_count": 12,
   "id": "7359e629",
   "metadata": {},
   "outputs": [
    {
     "name": "stdout",
     "output_type": "stream",
     "text": [
      "A\n"
     ]
    }
   ],
   "source": [
    "#elif condition   (elif stands for else if (multiple statements))\n",
    "\n",
    "marks=86\n",
    "if(marks>=90):\n",
    "    print(\"A+\")\n",
    "elif(80<=marks<90):\n",
    "    print(\"A\")\n",
    "elif(70<=marks<80):\n",
    "    print(\"B\")\n",
    "elif(60<=marks<70):\n",
    "    print(\"C\")\n",
    "else:                            #else is optional\n",
    "    print(\"D\")"
   ]
  },
  {
   "cell_type": "code",
   "execution_count": 10,
   "id": "d638ff3e",
   "metadata": {},
   "outputs": [
    {
     "name": "stdout",
     "output_type": "stream",
     "text": [
      "Enter a single character: A\n",
      "a is a vowel.\n"
     ]
    }
   ],
   "source": [
    "# accept any chartacter from the user and check wheather it is vowel or not\n",
    "char=(input(\"Enter a single character: \")).lower()\n",
    "if char in ('a','e','i','o','u'):\n",
    "    print(f\"{char} is a vowel.\")\n",
    "else:\n",
    "    print(f\"{char} is not a vowel.\")"
   ]
  },
  {
   "cell_type": "code",
   "execution_count": 11,
   "id": "330164a0",
   "metadata": {},
   "outputs": [],
   "source": [
    "# take a single digit number from the user and print it in words"
   ]
  },
  {
   "cell_type": "code",
   "execution_count": null,
   "id": "385f1131",
   "metadata": {},
   "outputs": [],
   "source": [
    "# while loop\n",
    "\n",
    "'''while condition:\n",
    "        statement\n",
    "        updation     '''"
   ]
  },
  {
   "cell_type": "code",
   "execution_count": 13,
   "id": "6a7e508b",
   "metadata": {},
   "outputs": [
    {
     "name": "stdout",
     "output_type": "stream",
     "text": [
      "1\n",
      "2\n",
      "3\n",
      "4\n",
      "5\n"
     ]
    }
   ],
   "source": [
    "count=1\n",
    "while count<=5:\n",
    "    print(count)\n",
    "    count +=1"
   ]
  },
  {
   "cell_type": "code",
   "execution_count": 15,
   "id": "b0db88bc",
   "metadata": {},
   "outputs": [
    {
     "name": "stdout",
     "output_type": "stream",
     "text": [
      "10\n",
      "9\n",
      "8\n",
      "7\n",
      "6\n",
      "5\n",
      "4\n",
      "3\n",
      "2\n",
      "1\n"
     ]
    }
   ],
   "source": [
    "#write a program to print first ten natural number in decreasing order\n",
    "initial=10\n",
    "while initial>=1:\n",
    "    print(initial)\n",
    "    initial-=1"
   ]
  },
  {
   "cell_type": "code",
   "execution_count": 19,
   "id": "19276bd7",
   "metadata": {},
   "outputs": [
    {
     "name": "stdout",
     "output_type": "stream",
     "text": [
      "Enter a string literal: python program\n",
      "p y t h o n   p r o g r a m "
     ]
    }
   ],
   "source": [
    "#write a python program to take a string literal from a user and print its character\n",
    "\n",
    "text=str(input(\"Enter a string literal: \"))\n",
    "n=0\n",
    "while n<len(text):\n",
    "    print(text[n],end=\" \")\n",
    "    n+=1"
   ]
  },
  {
   "cell_type": "code",
   "execution_count": 1,
   "id": "5369f076",
   "metadata": {},
   "outputs": [
    {
     "name": "stdout",
     "output_type": "stream",
     "text": [
      "1\n",
      "3\n",
      "5\n",
      "7\n",
      "9\n",
      "11\n",
      "13\n",
      "15\n",
      "17\n",
      "19\n"
     ]
    }
   ],
   "source": [
    "#write apython program to generate series of odd numbers from 1 to 20\n",
    "\n",
    "count=1\n",
    "while count<=20:\n",
    "    if count%2!=0:\n",
    "        print(count)\n",
    "    count=count+1"
   ]
  },
  {
   "cell_type": "code",
   "execution_count": 2,
   "id": "36245231",
   "metadata": {},
   "outputs": [
    {
     "name": "stdout",
     "output_type": "stream",
     "text": [
      "Enter any string: learning\n",
      "Enter any string: pyhton\n",
      "Enter any string: program\n",
      "Enter any string: Thank you\n"
     ]
    }
   ],
   "source": [
    "#write a program to prompt a user accept any string literal until entering thank you\n",
    "\n",
    "st1=\" \"\n",
    "while st1!=\"Thank you\":\n",
    "    st1=input(\"Enter any string: \")"
   ]
  },
  {
   "cell_type": "code",
   "execution_count": 4,
   "id": "c2ba1c7f",
   "metadata": {},
   "outputs": [
    {
     "name": "stdout",
     "output_type": "stream",
     "text": [
      "Entyer any string: python program is running\n",
      "Entyer any string: python program is running till i type thank you\n"
     ]
    }
   ],
   "source": [
    "st1=\" \"\n",
    "while \"thank you\" not in st1:\n",
    "    st1=input(\"Entyer any string: \")"
   ]
  },
  {
   "cell_type": "code",
   "execution_count": null,
   "id": "a8001365",
   "metadata": {},
   "outputs": [],
   "source": [
    "#for loop\n",
    "#iterates over a sequence (e.g list, tuple, dictionary, range,)\n",
    "\n",
    "'''for var_name in sequence:\n",
    "        statements'''"
   ]
  },
  {
   "cell_type": "code",
   "execution_count": 3,
   "id": "18dc703d",
   "metadata": {},
   "outputs": [
    {
     "name": "stdout",
     "output_type": "stream",
     "text": [
      "1 2 3 4 5 6 7 8 9 10 "
     ]
    }
   ],
   "source": [
    "for i in range(1,11):\n",
    "    print(i,end=\" \")"
   ]
  },
  {
   "cell_type": "code",
   "execution_count": 9,
   "id": "878a2c58",
   "metadata": {
    "scrolled": true
   },
   "outputs": [
    {
     "name": "stdout",
     "output_type": "stream",
     "text": [
      "5.5\n",
      "5.6\n",
      "9.8\n",
      "11.1\n"
     ]
    }
   ],
   "source": [
    "L1=[3.5,3.6,7.8,9.1]\n",
    "for i in L1:\n",
    "    print(i+2)"
   ]
  },
  {
   "cell_type": "code",
   "execution_count": 10,
   "id": "d5b3f7c2",
   "metadata": {},
   "outputs": [
    {
     "name": "stdout",
     "output_type": "stream",
     "text": [
      "7.0\n",
      "7.2\n",
      "15.6\n",
      "18.2\n"
     ]
    }
   ],
   "source": [
    "t1=(3.5,3.6,7.8,9.1)\n",
    "for i in t1:\n",
    "    print(i*2)"
   ]
  },
  {
   "cell_type": "code",
   "execution_count": 11,
   "id": "000b418b",
   "metadata": {},
   "outputs": [
    {
     "name": "stdout",
     "output_type": "stream",
     "text": [
      "city1\n",
      "city2\n",
      "city3\n"
     ]
    }
   ],
   "source": [
    "d1={'city1':'mumbai','city2':'delhi','city3':'pune'}\n",
    "for i in d1:\n",
    "    print(i)"
   ]
  },
  {
   "cell_type": "code",
   "execution_count": 15,
   "id": "cc5c2a1b",
   "metadata": {},
   "outputs": [
    {
     "name": "stdout",
     "output_type": "stream",
     "text": [
      "python\n",
      "is\n",
      "fun\n"
     ]
    }
   ],
   "source": [
    "s1=\"python is fun\"\n",
    "for i in s1.split():\n",
    "    print(i)"
   ]
  },
  {
   "cell_type": "code",
   "execution_count": 18,
   "id": "57d3d808",
   "metadata": {},
   "outputs": [
    {
     "name": "stdout",
     "output_type": "stream",
     "text": [
      "input a number: 8\n",
      "40320\n"
     ]
    }
   ],
   "source": [
    "#write a factorial representation\n",
    "\n",
    "num=int(input(\"input a number: \"))\n",
    "if num>0:\n",
    "    fact=1\n",
    "    for i in range(1,num+1):\n",
    "        fact=fact*i\n",
    "    print(fact)"
   ]
  },
  {
   "cell_type": "code",
   "execution_count": 25,
   "id": "0a60c760",
   "metadata": {},
   "outputs": [
    {
     "name": "stdout",
     "output_type": "stream",
     "text": [
      "input a number8\n",
      "1\n"
     ]
    }
   ],
   "source": [
    "#write a factorial representaton using if else\n",
    "\n",
    "num=int(input(\"input a number\"))\n",
    "if num>0:\n",
    "    fact\n",
    "else:\n",
    "    if num==0:\n",
    "        print(\"the favtorial is 1\")\n",
    "    if num<0:\n",
    "        print(\"the factorial of negative cannot be difined\")"
   ]
  },
  {
   "cell_type": "code",
   "execution_count": 48,
   "id": "9322f0d5",
   "metadata": {},
   "outputs": [
    {
     "name": "stdout",
     "output_type": "stream",
     "text": [
      "input a number: 2\n",
      "2 is prime.\n"
     ]
    }
   ],
   "source": [
    "#write a program to check weather the number is prime or not\n",
    "\n",
    "num=int(input(\"input a number: \"))\n",
    "if num>1:\n",
    "    for i in range(2,(num//2)+1):      #for i in range(2,int(n/2)+1)    #for i in range(2,(n**0.5)+1)\n",
    "        if num%i==0:\n",
    "            print(\"{} is not prime.\".format(num))\n",
    "            break\n",
    "    else:\n",
    "        print(\"{} is prime.\".format(num))\n",
    "else:\n",
    "    print(\"{} is not prime.\".format(num))"
   ]
  },
  {
   "cell_type": "code",
   "execution_count": 63,
   "id": "8ac8d3cd",
   "metadata": {},
   "outputs": [
    {
     "name": "stdout",
     "output_type": "stream",
     "text": [
      "enter the number of terms: 10\n",
      "0 1 1 2 3 5 8 13 21 34 "
     ]
    }
   ],
   "source": [
    "#write a program to generate fibonacci series\n",
    "n=int(input(\"enter the number of terms: \"))\n",
    "a=0\n",
    "b=1\n",
    "count=0\n",
    "if n<=0:\n",
    "    print(\"enter a positive integer.\")\n",
    "elif n==1:\n",
    "    print(\"fibonacci series upto {} term is.\".format(n))\n",
    "    print(a)\n",
    "else:\n",
    "    while count<n:\n",
    "        print(a,end=\" \")\n",
    "        a,b=b,a+b\n",
    "        count+=1"
   ]
  },
  {
   "cell_type": "code",
   "execution_count": 69,
   "id": "08b9ead8",
   "metadata": {},
   "outputs": [
    {
     "name": "stdout",
     "output_type": "stream",
     "text": [
      "2\n",
      "50\n",
      "2 3 5 7 11 13 17 19 23 29 31 37 41 43 47 "
     ]
    }
   ],
   "source": [
    "#write a python program to print all prime nubers between 1 t0 50\n",
    "a=int(input())\n",
    "b=int(input())\n",
    "for x in range(a,b):\n",
    "    for i in range(2,(x//2)+1):\n",
    "        if x%i==0:\n",
    "            break\n",
    "    else:\n",
    "        print(x,end=\" \")"
   ]
  },
  {
   "cell_type": "code",
   "execution_count": 71,
   "id": "f8b89656",
   "metadata": {},
   "outputs": [
    {
     "name": "stdout",
     "output_type": "stream",
     "text": [
      "enter number of rows: 5\n",
      "* \n",
      "* * \n",
      "* * * \n",
      "* * * * \n",
      "* * * * * \n"
     ]
    }
   ],
   "source": [
    "#patterns\n",
    "n=int(input(\"enter number of rows: \"))\n",
    "for i in range(0,n):\n",
    "    for j in range(0,i+1):\n",
    "        print(\"*\",end=\" \")\n",
    "    print()    "
   ]
  },
  {
   "cell_type": "code",
   "execution_count": 77,
   "id": "64438b1c",
   "metadata": {},
   "outputs": [
    {
     "name": "stdout",
     "output_type": "stream",
     "text": [
      "enter number of rows: 5\n",
      "* * * * * \n",
      "* * * * \n",
      "* * * \n",
      "* * \n",
      "* \n"
     ]
    }
   ],
   "source": [
    "n=int(input(\"enter number of rows: \"))\n",
    "for i in range(0,n):\n",
    "    for j in range(0,n-i):\n",
    "        print(\"*\",end=\" \")\n",
    "    print()    "
   ]
  },
  {
   "cell_type": "code",
   "execution_count": 78,
   "id": "9c802741",
   "metadata": {},
   "outputs": [
    {
     "name": "stdout",
     "output_type": "stream",
     "text": [
      "enter number of rows: 5\n",
      "        * \n",
      "      * * \n",
      "    * * * \n",
      "  * * * * \n",
      "* * * * * \n"
     ]
    }
   ],
   "source": [
    "n=int(input(\"enter number of rows: \"))\n",
    "for i in range(0,n):\n",
    "    for j in range(0,n-i-1):\n",
    "        print(\" \",end=\" \")\n",
    "    for j in range(0,i+1):\n",
    "        print(\"*\",end=\" \")\n",
    "    print()"
   ]
  },
  {
   "cell_type": "code",
   "execution_count": 14,
   "id": "ee278522",
   "metadata": {},
   "outputs": [
    {
     "name": "stdout",
     "output_type": "stream",
     "text": [
      "enter number of rows: 5\n",
      "    * \n",
      "   * * \n",
      "  * * * \n",
      " * * * * \n",
      "* * * * * \n"
     ]
    }
   ],
   "source": [
    "n=int(input(\"enter number of rows: \"))\n",
    "for i in range(0,n):\n",
    "    for j in range(0,n-i-1):\n",
    "        print(\" \",end=\"\")\n",
    "    for j in range(0,i+1):\n",
    "        print(\"*\",end=\" \")\n",
    "    print()"
   ]
  },
  {
   "cell_type": "code",
   "execution_count": 11,
   "id": "15de1bbc",
   "metadata": {},
   "outputs": [
    {
     "name": "stdout",
     "output_type": "stream",
     "text": [
      "enter number of rows: 5\n",
      " * * * * * \n",
      "  * * * * \n",
      "   * * * \n",
      "    * * \n",
      "     * \n"
     ]
    }
   ],
   "source": [
    "n=int(input(\"enter number of rows: \"))\n",
    "for i in range(0,n):\n",
    "    for j in range(0,i+1):\n",
    "        print(\" \",end=\"\")\n",
    "    for j in range(0,n-i):\n",
    "        print(\"*\",end=\" \")\n",
    "    print()"
   ]
  },
  {
   "cell_type": "code",
   "execution_count": 17,
   "id": "fe505807",
   "metadata": {},
   "outputs": [
    {
     "name": "stdout",
     "output_type": "stream",
     "text": [
      "enter number of rows: 5\n",
      "    *\n",
      "   ***\n",
      "  *****\n",
      " *******\n",
      "*********\n"
     ]
    }
   ],
   "source": [
    "n=int(input(\"enter number of rows: \"))\n",
    "for i in range(0,n):\n",
    "    for j in range(0,n-i-1):\n",
    "        print(\" \",end=\"\")\n",
    "    for j in range(0,2*i+1):\n",
    "        print(\"*\",end=\"\")\n",
    "    print()"
   ]
  },
  {
   "cell_type": "code",
   "execution_count": 18,
   "id": "c2cbbdab",
   "metadata": {},
   "outputs": [
    {
     "name": "stdout",
     "output_type": "stream",
     "text": [
      "enter the number of rows: 5\n",
      "* * * * * \n",
      "* * * * * \n",
      "* * * * * \n",
      "* * * * * \n",
      "* * * * * \n"
     ]
    }
   ],
   "source": [
    "n=int(input(\"enter the number of rows: \"))\n",
    "for i in range(0,n):\n",
    "    for j in range(0,n):\n",
    "        print(\"*\",end=\" \")\n",
    "    print()"
   ]
  },
  {
   "cell_type": "code",
   "execution_count": 20,
   "id": "dfec3448",
   "metadata": {},
   "outputs": [
    {
     "name": "stdout",
     "output_type": "stream",
     "text": [
      "enter number of rows: 5\n",
      "1 \n",
      "1 2 \n",
      "1 2 3 \n",
      "1 2 3 4 \n",
      "1 2 3 4 5 \n"
     ]
    }
   ],
   "source": [
    "n=int(input(\"enter number of rows: \"))\n",
    "for i in range(0,n):\n",
    "    count=1\n",
    "    for j in range(0,i+1):\n",
    "        print(count,end=\" \")\n",
    "        count+=1\n",
    "    print()"
   ]
  },
  {
   "cell_type": "code",
   "execution_count": 28,
   "id": "a89d2bfc",
   "metadata": {},
   "outputs": [
    {
     "name": "stdout",
     "output_type": "stream",
     "text": [
      "enter number of rows: 5\n",
      "A \n",
      "A B \n",
      "A B C \n",
      "A B C D \n",
      "A B C D E \n"
     ]
    }
   ],
   "source": [
    "n=int(input(\"enter number of rows: \"))\n",
    "for i in range(0,n):\n",
    "    char=65\n",
    "    for j in range(0,i+1):\n",
    "        print(chr(char),end=\" \")\n",
    "        char+=1\n",
    "    print()"
   ]
  },
  {
   "cell_type": "code",
   "execution_count": 2,
   "id": "05065916",
   "metadata": {},
   "outputs": [
    {
     "name": "stdout",
     "output_type": "stream",
     "text": [
      "enter number of rows: 5\n",
      "1 \n",
      "1 2 \n",
      "1 2 3 \n",
      "1 2 3 4 \n",
      "1 2 3 4 5 \n"
     ]
    }
   ],
   "source": [
    "n=int(input(\"enter number of rows: \"))\n",
    "i=0\n",
    "while(i<n):\n",
    "    j=0\n",
    "    while(j<i+1):\n",
    "        print(j+1,end=\" \")\n",
    "        j+=1\n",
    "    i+=1\n",
    "    print()"
   ]
  },
  {
   "cell_type": "code",
   "execution_count": 4,
   "id": "2f9dfc7e",
   "metadata": {},
   "outputs": [
    {
     "name": "stdout",
     "output_type": "stream",
     "text": [
      "enter number of rows: 5\n",
      "A \n",
      "A B \n",
      "A B C \n",
      "A B C D \n",
      "A B C D E \n"
     ]
    }
   ],
   "source": [
    "n=int(input(\"enter number of rows: \"))\n",
    "for i in range(0,n):\n",
    "    char=65\n",
    "    for j in range(0,i+1):\n",
    "        print(chr(char),end=\" \")\n",
    "        char+=1\n",
    "    print()"
   ]
  },
  {
   "cell_type": "code",
   "execution_count": 21,
   "id": "c5d36195",
   "metadata": {},
   "outputs": [
    {
     "name": "stdout",
     "output_type": "stream",
     "text": [
      "enter number of rows: 4\n",
      "1 2 3 4 \n",
      "5 6 7 \n",
      "8 9 \n",
      "10 \n"
     ]
    }
   ],
   "source": [
    "n=int(input(\"enter number of rows: \"))\n",
    "count=1\n",
    "for i in range(0,n):\n",
    "    for j in range(0,n-i):\n",
    "        print(count,end=\" \")\n",
    "        count+=1\n",
    "    print()"
   ]
  },
  {
   "cell_type": "code",
   "execution_count": 36,
   "id": "dbeaae89",
   "metadata": {},
   "outputs": [
    {
     "name": "stdout",
     "output_type": "stream",
     "text": [
      "input positive integer: 343\n",
      "343 is a palindrome.\n"
     ]
    }
   ],
   "source": [
    "#write a program to take positive integer from user and check wheather the numbere is palindrome or not\n",
    "num=int(input(\"input positive integer: \"))\n",
    "temp=num\n",
    "rev=0\n",
    "while(num!=0):\n",
    "    r=num%10\n",
    "    num=num//10\n",
    "    rev=rev*10+r\n",
    "if(rev==temp):\n",
    "    print(\"{} is a palindrome.\".format(temp))\n",
    "else:\n",
    "    print(\"{} is not a palindrome.\".format(temp))"
   ]
  },
  {
   "cell_type": "code",
   "execution_count": null,
   "id": "7c677cac",
   "metadata": {},
   "outputs": [],
   "source": [
    "#write a program to reverse the string"
   ]
  },
  {
   "cell_type": "code",
   "execution_count": null,
   "id": "4e144a47",
   "metadata": {},
   "outputs": [],
   "source": [
    "#write a program to reverse the internal content of the string"
   ]
  },
  {
   "cell_type": "code",
   "execution_count": null,
   "id": "f409bdfa",
   "metadata": {},
   "outputs": [],
   "source": [
    "#program to print characters at odd position and even position"
   ]
  },
  {
   "cell_type": "code",
   "execution_count": null,
   "id": "3290feb5",
   "metadata": {},
   "outputs": [],
   "source": [
    "#program to merge characters of two strings into a single string by taking characters alternatively\n",
    "''' e.g s1=python\n",
    "        s2=world\n",
    "        output=pwyotrhlodn '''"
   ]
  },
  {
   "cell_type": "code",
   "execution_count": null,
   "id": "5df0d946",
   "metadata": {},
   "outputs": [],
   "source": [
    "#program to sort the characters of the string first alphabate symbol followed by numeric\n",
    "''' s1=B4F1C3X5\n",
    "    output=BFCX4135 '''"
   ]
  },
  {
   "cell_type": "code",
   "execution_count": null,
   "id": "bc78c7e9",
   "metadata": {},
   "outputs": [],
   "source": [
    "''' s1= B3A2F4\n",
    "    output=BBBAAFFFF '''"
   ]
  },
  {
   "cell_type": "code",
   "execution_count": null,
   "id": "d7389201",
   "metadata": {},
   "outputs": [],
   "source": [
    "#remove duplicates\n",
    "''' aaabbbbccddeeff '''"
   ]
  },
  {
   "cell_type": "code",
   "execution_count": null,
   "id": "57ac8f03",
   "metadata": {},
   "outputs": [],
   "source": [
    "#count number of characters how many times it occurs"
   ]
  },
  {
   "cell_type": "code",
   "execution_count": 1,
   "id": "29e8aa23",
   "metadata": {},
   "outputs": [
    {
     "name": "stdout",
     "output_type": "stream",
     "text": [
      "enter the number: 2\n",
      "2\n",
      "4\n",
      "6\n",
      "8\n",
      "10\n",
      "12\n",
      "14\n",
      "16\n",
      "18\n",
      "20\n"
     ]
    }
   ],
   "source": [
    "#write a python program to print the table of given number\n",
    "n=int(input(\"enter the number: \"))\n",
    "for i in range(1,11):\n",
    "    print(n*i)"
   ]
  },
  {
   "cell_type": "code",
   "execution_count": 3,
   "id": "88eccaf0",
   "metadata": {},
   "outputs": [
    {
     "name": "stdout",
     "output_type": "stream",
     "text": [
      "1\n",
      "2\n",
      "hello\n"
     ]
    }
   ],
   "source": [
    "# break\n",
    "\n",
    "for i in range(1,6):\n",
    "    if(i==3):\n",
    "        break\n",
    "    print(i)\n",
    "print(\"hello\")"
   ]
  },
  {
   "cell_type": "code",
   "execution_count": 4,
   "id": "ac6c222a",
   "metadata": {},
   "outputs": [
    {
     "name": "stdout",
     "output_type": "stream",
     "text": [
      "1\n",
      "2\n",
      "4\n",
      "5\n",
      "hello\n"
     ]
    }
   ],
   "source": [
    "#continue\n",
    "\n",
    "for i in range(1,6):\n",
    "    if(i==3):\n",
    "        continue\n",
    "    print(i)\n",
    "print(\"hello\")"
   ]
  },
  {
   "cell_type": "code",
   "execution_count": null,
   "id": "74f821a6",
   "metadata": {},
   "outputs": [],
   "source": [
    "#introduction to functions and function calls\n",
    "#why use function?\n",
    "   #code reusability\n",
    "   #modularity\n",
    "   #ease of debugging\n",
    "    \n",
    "''' syntax of a function\n",
    "      \n",
    "      def function_name(parameters):  '''\n",
    "\n",
    "\n",
    "''' optional docstring to describe the function.'''\n",
    "    #function body\n",
    "    #return value  #optional\n",
    "\n",
    "\n",
    "#function call\n",
    "\n",
    "''' function_name(arguments) '''\n"
   ]
  },
  {
   "cell_type": "code",
   "execution_count": 6,
   "id": "326c91e3",
   "metadata": {},
   "outputs": [
    {
     "name": "stdout",
     "output_type": "stream",
     "text": [
      "input x: 5\n",
      "input y: 7\n",
      "12\n"
     ]
    }
   ],
   "source": [
    "#sum of two numbers\n",
    "def findSum(a,b):\n",
    "    result=a+b\n",
    "    return result\n",
    "x=int(input(\"input x: \"))\n",
    "y=int(input(\"input y: \"))\n",
    "z=findSum(x,y)         #function call\n",
    "print(z)"
   ]
  },
  {
   "cell_type": "code",
   "execution_count": 16,
   "id": "b6a28b74",
   "metadata": {},
   "outputs": [
    {
     "name": "stdout",
     "output_type": "stream",
     "text": [
      "result is:  9\n"
     ]
    }
   ],
   "source": [
    "def findSum():\n",
    "    result=x+4\n",
    "    print(\"result is: \",result)\n",
    "x=5\n",
    "y=7\n",
    "z=findSum()"
   ]
  },
  {
   "cell_type": "code",
   "execution_count": 24,
   "id": "dd16addd",
   "metadata": {},
   "outputs": [
    {
     "name": "stdout",
     "output_type": "stream",
     "text": [
      "5 -1 6 0.6666666666666666\n"
     ]
    },
    {
     "data": {
      "text/plain": [
       "'function will return addition,subtraction,multiplication&division of two numbers'"
      ]
     },
     "execution_count": 24,
     "metadata": {},
     "output_type": "execute_result"
    }
   ],
   "source": [
    "def arithmatic(num1,num2):\n",
    "    '''function will return addition,subtraction,multiplication&division of two numbers'''\n",
    "    add=num1+num2\n",
    "    sub=num1-num2\n",
    "    multiply=num1*num2\n",
    "    div=num1/num2\n",
    "    return add,sub,multiply,div\n",
    "\n",
    "a,b,c,d=arithmatic(2,3)\n",
    "print(a,b,c,d)\n",
    "arithmatic.__doc__"
   ]
  },
  {
   "cell_type": "code",
   "execution_count": 27,
   "id": "901a0fdc",
   "metadata": {},
   "outputs": [
    {
     "name": "stdout",
     "output_type": "stream",
     "text": [
      "input the number: 8\n",
      "40320\n"
     ]
    }
   ],
   "source": [
    "#create a function in python to find a factorial of anumber\n",
    "def fact(n):\n",
    "    f=1\n",
    "    for i in range(1,n+1):\n",
    "        f=f*i\n",
    "    return f\n",
    "a=int(input(\"input the number: \"))\n",
    "b=fact(a)\n",
    "print(b)"
   ]
  },
  {
   "cell_type": "code",
   "execution_count": 5,
   "id": "fe7bf0ba",
   "metadata": {},
   "outputs": [
    {
     "name": "stdout",
     "output_type": "stream",
     "text": [
      "input number of terms: 8\n",
      "[0, 1, 1, 2, 3, 5, 8, 13]\n"
     ]
    }
   ],
   "source": [
    "#create a function to generate fibpnacci series\n",
    "\n",
    "def fib(n):\n",
    "    fib_series=[]\n",
    "    a=0\n",
    "    b=1\n",
    "    count=0\n",
    "    while count<n:\n",
    "        fib_series.append(a)\n",
    "        a,b=b,a+b\n",
    "        count+=1\n",
    "    return fib_series\n",
    "a=int(input(\"input number of terms: \"))\n",
    "x=fib(a)\n",
    "print(x)"
   ]
  },
  {
   "cell_type": "code",
   "execution_count": 6,
   "id": "df91dc1b",
   "metadata": {},
   "outputs": [
    {
     "name": "stdout",
     "output_type": "stream",
     "text": [
      "input number of terms: 8\n",
      "0 1 1 2 3 5 8 13 "
     ]
    }
   ],
   "source": [
    "#create a function to generate fibpnacci series\n",
    "\n",
    "def fib(n):\n",
    "    a=0\n",
    "    b=1\n",
    "    count=0\n",
    "    while count<n:\n",
    "        print(a,end=\" \")\n",
    "        a,b=b,a+b\n",
    "        count+=1\n",
    "a=int(input(\"input number of terms: \"))\n",
    "x=fib(a)"
   ]
  },
  {
   "cell_type": "code",
   "execution_count": null,
   "id": "b2ad354f",
   "metadata": {},
   "outputs": [],
   "source": [
    "#arguments passing"
   ]
  }
 ],
 "metadata": {
  "kernelspec": {
   "display_name": "Python 3 (ipykernel)",
   "language": "python",
   "name": "python3"
  },
  "language_info": {
   "codemirror_mode": {
    "name": "ipython",
    "version": 3
   },
   "file_extension": ".py",
   "mimetype": "text/x-python",
   "name": "python",
   "nbconvert_exporter": "python",
   "pygments_lexer": "ipython3",
   "version": "3.11.5"
  }
 },
 "nbformat": 4,
 "nbformat_minor": 5
}
